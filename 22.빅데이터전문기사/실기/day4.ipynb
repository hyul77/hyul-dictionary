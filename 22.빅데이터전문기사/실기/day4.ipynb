{
 "cells": [
  {
   "cell_type": "code",
   "execution_count": 177,
   "metadata": {},
   "outputs": [],
   "source": [
    "import pandas as pd\n",
    "import numpy as np\n",
    "import seaborn as sns\n",
    "\n",
    "from sklearn.model_selection import train_test_split\n",
    "from sklearn.preprocessing import LabelEncoder, MinMaxScaler\n",
    "from sklearn.metrics import accuracy_score, mean_squared_error, f1_score\n",
    "from sklearn.ensemble import RandomForestClassifier"
   ]
  },
  {
   "cell_type": "code",
   "execution_count": 178,
   "metadata": {},
   "outputs": [],
   "source": [
    "df = sns.load_dataset('titanic')"
   ]
  },
  {
   "cell_type": "code",
   "execution_count": 179,
   "metadata": {},
   "outputs": [
    {
     "data": {
      "text/plain": [
       "survived         0\n",
       "pclass           0\n",
       "sex              0\n",
       "age            177\n",
       "sibsp            0\n",
       "parch            0\n",
       "fare             0\n",
       "embarked         2\n",
       "class            0\n",
       "who              0\n",
       "adult_male       0\n",
       "deck           688\n",
       "embark_town      2\n",
       "alive            0\n",
       "alone            0\n",
       "dtype: int64"
      ]
     },
     "execution_count": 179,
     "metadata": {},
     "output_type": "execute_result"
    }
   ],
   "source": [
    "df.isnull().sum()"
   ]
  },
  {
   "cell_type": "code",
   "execution_count": 180,
   "metadata": {},
   "outputs": [],
   "source": [
    "df['age'].fillna(df['age'].mean(), inplace=True)\n",
    "df['embarked'].fillna(df['embarked'].mode().values[0], inplace=True)\n",
    "df['embark_town'].fillna(df['embark_town'].mode().values[0], inplace=True)\n",
    "\n",
    "df.drop(columns=['deck', 'alive'], inplace=True)"
   ]
  },
  {
   "cell_type": "code",
   "execution_count": 181,
   "metadata": {},
   "outputs": [],
   "source": [
    "encoder = LabelEncoder()\n",
    "\n",
    "df_cat = df.select_dtypes(exclude=np.number)\n",
    "\n",
    "for col in df_cat.columns:\n",
    "    df_cat[col] = encoder.fit_transform(df_cat[col])\n",
    "df[df_cat.columns] = df_cat"
   ]
  },
  {
   "cell_type": "code",
   "execution_count": 182,
   "metadata": {},
   "outputs": [
    {
     "data": {
      "text/plain": [
       "sibsp          0.035322\n",
       "age            0.069809\n",
       "parch          0.081629\n",
       "embarked       0.167675\n",
       "embark_town    0.167675\n",
       "alone          0.203367\n",
       "fare           0.257307\n",
       "who            0.325753\n",
       "pclass         0.338481\n",
       "class          0.338481\n",
       "sex            0.543351\n",
       "adult_male     0.557080\n",
       "survived       1.000000\n",
       "Name: survived, dtype: float64"
      ]
     },
     "execution_count": 182,
     "metadata": {},
     "output_type": "execute_result"
    }
   ],
   "source": [
    "df.corr()['survived'].abs().sort_values()"
   ]
  },
  {
   "cell_type": "code",
   "execution_count": 183,
   "metadata": {},
   "outputs": [],
   "source": [
    "train, test = train_test_split(df, random_state=42)\n",
    "\n",
    "train_y = train['survived']\n",
    "train_x = train.copy()\n",
    "train_x.drop(columns=['survived'], inplace=True)\n",
    "\n",
    "valid = test['survived']\n",
    "test.drop(columns=['survived'], inplace=True)"
   ]
  },
  {
   "cell_type": "code",
   "execution_count": 184,
   "metadata": {},
   "outputs": [
    {
     "name": "stdout",
     "output_type": "stream",
     "text": [
      "정확도 :  0.7847533632286996\n"
     ]
    }
   ],
   "source": [
    "model = RandomForestClassifier(random_state=42)\n",
    "\n",
    "model.fit(train_x,train_y)\n",
    "pred = model.predict(test)\n",
    "\n",
    "print(\"정확도 : \", accuracy_score(valid, pred))"
   ]
  },
  {
   "cell_type": "code",
   "execution_count": 185,
   "metadata": {},
   "outputs": [
    {
     "data": {
      "text/html": [
       "<div>\n",
       "<style scoped>\n",
       "    .dataframe tbody tr th:only-of-type {\n",
       "        vertical-align: middle;\n",
       "    }\n",
       "\n",
       "    .dataframe tbody tr th {\n",
       "        vertical-align: top;\n",
       "    }\n",
       "\n",
       "    .dataframe thead th {\n",
       "        text-align: right;\n",
       "    }\n",
       "</style>\n",
       "<table border=\"1\" class=\"dataframe\">\n",
       "  <thead>\n",
       "    <tr style=\"text-align: right;\">\n",
       "      <th></th>\n",
       "      <th>survived</th>\n",
       "    </tr>\n",
       "  </thead>\n",
       "  <tbody>\n",
       "    <tr>\n",
       "      <th>0</th>\n",
       "      <td>0</td>\n",
       "    </tr>\n",
       "    <tr>\n",
       "      <th>1</th>\n",
       "      <td>0</td>\n",
       "    </tr>\n",
       "    <tr>\n",
       "      <th>2</th>\n",
       "      <td>0</td>\n",
       "    </tr>\n",
       "    <tr>\n",
       "      <th>3</th>\n",
       "      <td>1</td>\n",
       "    </tr>\n",
       "    <tr>\n",
       "      <th>4</th>\n",
       "      <td>0</td>\n",
       "    </tr>\n",
       "    <tr>\n",
       "      <th>...</th>\n",
       "      <td>...</td>\n",
       "    </tr>\n",
       "    <tr>\n",
       "      <th>218</th>\n",
       "      <td>1</td>\n",
       "    </tr>\n",
       "    <tr>\n",
       "      <th>219</th>\n",
       "      <td>0</td>\n",
       "    </tr>\n",
       "    <tr>\n",
       "      <th>220</th>\n",
       "      <td>0</td>\n",
       "    </tr>\n",
       "    <tr>\n",
       "      <th>221</th>\n",
       "      <td>1</td>\n",
       "    </tr>\n",
       "    <tr>\n",
       "      <th>222</th>\n",
       "      <td>0</td>\n",
       "    </tr>\n",
       "  </tbody>\n",
       "</table>\n",
       "<p>223 rows × 1 columns</p>\n",
       "</div>"
      ],
      "text/plain": [
       "     survived\n",
       "0           0\n",
       "1           0\n",
       "2           0\n",
       "3           1\n",
       "4           0\n",
       "..        ...\n",
       "218         1\n",
       "219         0\n",
       "220         0\n",
       "221         1\n",
       "222         0\n",
       "\n",
       "[223 rows x 1 columns]"
      ]
     },
     "execution_count": 185,
     "metadata": {},
     "output_type": "execute_result"
    }
   ],
   "source": [
    "pred = pd.DataFrame(pred, columns=['survived'])\n",
    "pred"
   ]
  },
  {
   "cell_type": "code",
   "execution_count": 186,
   "metadata": {},
   "outputs": [],
   "source": [
    "# pred.to_csv('test.csv', index=False)"
   ]
  },
  {
   "cell_type": "markdown",
   "metadata": {},
   "source": [
    "# 7회차"
   ]
  },
  {
   "cell_type": "markdown",
   "metadata": {},
   "source": [
    "## 1유형"
   ]
  },
  {
   "cell_type": "code",
   "execution_count": 187,
   "metadata": {},
   "outputs": [
    {
     "data": {
      "text/html": [
       "<div>\n",
       "<style scoped>\n",
       "    .dataframe tbody tr th:only-of-type {\n",
       "        vertical-align: middle;\n",
       "    }\n",
       "\n",
       "    .dataframe tbody tr th {\n",
       "        vertical-align: top;\n",
       "    }\n",
       "\n",
       "    .dataframe thead th {\n",
       "        text-align: right;\n",
       "    }\n",
       "</style>\n",
       "<table border=\"1\" class=\"dataframe\">\n",
       "  <thead>\n",
       "    <tr style=\"text-align: right;\">\n",
       "      <th></th>\n",
       "      <th>학생</th>\n",
       "      <th>국어</th>\n",
       "      <th>수학</th>\n",
       "      <th>영어</th>\n",
       "      <th>과학</th>\n",
       "    </tr>\n",
       "  </thead>\n",
       "  <tbody>\n",
       "    <tr>\n",
       "      <th>0</th>\n",
       "      <td>ID_0</td>\n",
       "      <td>63.0</td>\n",
       "      <td>NaN</td>\n",
       "      <td>79.0</td>\n",
       "      <td>84.0</td>\n",
       "    </tr>\n",
       "    <tr>\n",
       "      <th>1</th>\n",
       "      <td>ID_1</td>\n",
       "      <td>91.0</td>\n",
       "      <td>93.0</td>\n",
       "      <td>NaN</td>\n",
       "      <td>73.0</td>\n",
       "    </tr>\n",
       "    <tr>\n",
       "      <th>2</th>\n",
       "      <td>ID_2</td>\n",
       "      <td>59.0</td>\n",
       "      <td>55.0</td>\n",
       "      <td>NaN</td>\n",
       "      <td>56.0</td>\n",
       "    </tr>\n",
       "    <tr>\n",
       "      <th>3</th>\n",
       "      <td>ID_3</td>\n",
       "      <td>71.0</td>\n",
       "      <td>83.0</td>\n",
       "      <td>82.0</td>\n",
       "      <td>NaN</td>\n",
       "    </tr>\n",
       "    <tr>\n",
       "      <th>4</th>\n",
       "      <td>ID_4</td>\n",
       "      <td>62.0</td>\n",
       "      <td>72.0</td>\n",
       "      <td>56.0</td>\n",
       "      <td>NaN</td>\n",
       "    </tr>\n",
       "  </tbody>\n",
       "</table>\n",
       "</div>"
      ],
      "text/plain": [
       "     학생    국어    수학    영어    과학\n",
       "0  ID_0  63.0   NaN  79.0  84.0\n",
       "1  ID_1  91.0  93.0   NaN  73.0\n",
       "2  ID_2  59.0  55.0   NaN  56.0\n",
       "3  ID_3  71.0  83.0  82.0   NaN\n",
       "4  ID_4  62.0  72.0  56.0   NaN"
      ]
     },
     "execution_count": 187,
     "metadata": {},
     "output_type": "execute_result"
    }
   ],
   "source": [
    "import pandas as pd\n",
    "df = pd.read_csv('https://raw.githubusercontent.com/Datamanim/datarepo/main/krdatacertificate/e7_p1.csv')\n",
    "df.head(5)"
   ]
  },
  {
   "cell_type": "code",
   "execution_count": 188,
   "metadata": {},
   "outputs": [
    {
     "name": "stdout",
     "output_type": "stream",
     "text": [
      "1.713855688712825\n"
     ]
    }
   ],
   "source": [
    "# 국어,수학,영어,과학 과목 중 가장 많은 학생들이 응시한 시험을 선택하고 해당과목의 점수를 표준화 했을 때 가장 큰 표준화 점수를 구하여라\n",
    "from scipy.stats import zscore\n",
    "sub = df.isnull().sum().sort_values().index[1]\n",
    "ans = zscore(df[sub].dropna()).max()\n",
    "print(ans)"
   ]
  },
  {
   "cell_type": "code",
   "execution_count": 189,
   "metadata": {},
   "outputs": [
    {
     "data": {
      "text/html": [
       "<div>\n",
       "<style scoped>\n",
       "    .dataframe tbody tr th:only-of-type {\n",
       "        vertical-align: middle;\n",
       "    }\n",
       "\n",
       "    .dataframe tbody tr th {\n",
       "        vertical-align: top;\n",
       "    }\n",
       "\n",
       "    .dataframe thead th {\n",
       "        text-align: right;\n",
       "    }\n",
       "</style>\n",
       "<table border=\"1\" class=\"dataframe\">\n",
       "  <thead>\n",
       "    <tr style=\"text-align: right;\">\n",
       "      <th></th>\n",
       "      <th>var_1</th>\n",
       "      <th>var_2</th>\n",
       "      <th>var_3</th>\n",
       "      <th>var_4</th>\n",
       "      <th>var_5</th>\n",
       "      <th>var_6</th>\n",
       "      <th>var_7</th>\n",
       "      <th>var_8</th>\n",
       "      <th>var_9</th>\n",
       "      <th>var_10</th>\n",
       "      <th>var_11</th>\n",
       "      <th>var_12</th>\n",
       "      <th>var_13</th>\n",
       "      <th>var_14</th>\n",
       "      <th>var_15</th>\n",
       "      <th>var_16</th>\n",
       "      <th>var_17</th>\n",
       "      <th>var_18</th>\n",
       "      <th>var_19</th>\n",
       "      <th>var_20</th>\n",
       "      <th>var_21</th>\n",
       "      <th>var_22</th>\n",
       "      <th>var_23</th>\n",
       "      <th>var_24</th>\n",
       "      <th>var_25</th>\n",
       "      <th>var_26</th>\n",
       "      <th>var_27</th>\n",
       "      <th>var_28</th>\n",
       "      <th>var_29</th>\n",
       "      <th>var_30</th>\n",
       "      <th>var_31</th>\n",
       "      <th>var_32</th>\n",
       "    </tr>\n",
       "  </thead>\n",
       "  <tbody>\n",
       "    <tr>\n",
       "      <th>0</th>\n",
       "      <td>-0.335864</td>\n",
       "      <td>-2.425701</td>\n",
       "      <td>0.452851</td>\n",
       "      <td>-1.381924</td>\n",
       "      <td>-0.425591</td>\n",
       "      <td>-1.461498</td>\n",
       "      <td>-0.417082</td>\n",
       "      <td>-0.944226</td>\n",
       "      <td>-0.351224</td>\n",
       "      <td>1.474046</td>\n",
       "      <td>1.167691</td>\n",
       "      <td>-1.054375</td>\n",
       "      <td>0.118942</td>\n",
       "      <td>-0.309185</td>\n",
       "      <td>0.511080</td>\n",
       "      <td>0.409288</td>\n",
       "      <td>1.506075</td>\n",
       "      <td>-1.241138</td>\n",
       "      <td>-0.363806</td>\n",
       "      <td>-0.713336</td>\n",
       "      <td>-0.563761</td>\n",
       "      <td>-0.258406</td>\n",
       "      <td>1.715714</td>\n",
       "      <td>0.300227</td>\n",
       "      <td>0.439828</td>\n",
       "      <td>-0.094772</td>\n",
       "      <td>1.551995</td>\n",
       "      <td>3.308446</td>\n",
       "      <td>-0.391377</td>\n",
       "      <td>1.963829</td>\n",
       "      <td>-1.458605</td>\n",
       "      <td>-0.348652</td>\n",
       "    </tr>\n",
       "    <tr>\n",
       "      <th>1</th>\n",
       "      <td>0.803535</td>\n",
       "      <td>-0.699433</td>\n",
       "      <td>0.095579</td>\n",
       "      <td>0.788053</td>\n",
       "      <td>-0.267674</td>\n",
       "      <td>-0.370746</td>\n",
       "      <td>0.636034</td>\n",
       "      <td>-1.674584</td>\n",
       "      <td>-0.058465</td>\n",
       "      <td>-1.188973</td>\n",
       "      <td>1.285189</td>\n",
       "      <td>-0.598661</td>\n",
       "      <td>1.241800</td>\n",
       "      <td>1.642265</td>\n",
       "      <td>0.295339</td>\n",
       "      <td>1.739567</td>\n",
       "      <td>0.185418</td>\n",
       "      <td>2.097527</td>\n",
       "      <td>0.304736</td>\n",
       "      <td>-0.161477</td>\n",
       "      <td>2.023696</td>\n",
       "      <td>0.672172</td>\n",
       "      <td>-1.348879</td>\n",
       "      <td>-0.899480</td>\n",
       "      <td>-1.271886</td>\n",
       "      <td>0.333734</td>\n",
       "      <td>-0.373565</td>\n",
       "      <td>-2.091508</td>\n",
       "      <td>-0.715245</td>\n",
       "      <td>-0.688441</td>\n",
       "      <td>0.910927</td>\n",
       "      <td>-0.746899</td>\n",
       "    </tr>\n",
       "    <tr>\n",
       "      <th>2</th>\n",
       "      <td>-0.408470</td>\n",
       "      <td>-0.361105</td>\n",
       "      <td>-0.857278</td>\n",
       "      <td>0.338294</td>\n",
       "      <td>2.317821</td>\n",
       "      <td>-0.099928</td>\n",
       "      <td>0.557053</td>\n",
       "      <td>-0.847932</td>\n",
       "      <td>0.973471</td>\n",
       "      <td>0.101203</td>\n",
       "      <td>0.566673</td>\n",
       "      <td>0.845139</td>\n",
       "      <td>0.103693</td>\n",
       "      <td>-0.198625</td>\n",
       "      <td>1.732118</td>\n",
       "      <td>1.168597</td>\n",
       "      <td>1.664781</td>\n",
       "      <td>0.406644</td>\n",
       "      <td>-1.055908</td>\n",
       "      <td>0.275147</td>\n",
       "      <td>-1.201917</td>\n",
       "      <td>-1.038029</td>\n",
       "      <td>-0.388353</td>\n",
       "      <td>0.918553</td>\n",
       "      <td>-1.984422</td>\n",
       "      <td>0.385055</td>\n",
       "      <td>1.161414</td>\n",
       "      <td>-1.280253</td>\n",
       "      <td>2.831802</td>\n",
       "      <td>-0.953771</td>\n",
       "      <td>-0.228466</td>\n",
       "      <td>0.766254</td>\n",
       "    </tr>\n",
       "    <tr>\n",
       "      <th>3</th>\n",
       "      <td>-0.690599</td>\n",
       "      <td>0.777928</td>\n",
       "      <td>-0.079963</td>\n",
       "      <td>0.164086</td>\n",
       "      <td>1.721702</td>\n",
       "      <td>0.146761</td>\n",
       "      <td>-0.988636</td>\n",
       "      <td>0.885344</td>\n",
       "      <td>0.647053</td>\n",
       "      <td>0.674609</td>\n",
       "      <td>-0.227789</td>\n",
       "      <td>-0.030563</td>\n",
       "      <td>1.378098</td>\n",
       "      <td>-0.096259</td>\n",
       "      <td>-0.740124</td>\n",
       "      <td>-1.970933</td>\n",
       "      <td>0.508952</td>\n",
       "      <td>-1.719803</td>\n",
       "      <td>0.492262</td>\n",
       "      <td>-0.641031</td>\n",
       "      <td>-1.268461</td>\n",
       "      <td>-0.018690</td>\n",
       "      <td>0.337074</td>\n",
       "      <td>-1.406224</td>\n",
       "      <td>-0.699728</td>\n",
       "      <td>-0.836068</td>\n",
       "      <td>-0.226315</td>\n",
       "      <td>1.260893</td>\n",
       "      <td>-0.781630</td>\n",
       "      <td>-0.219995</td>\n",
       "      <td>0.871289</td>\n",
       "      <td>0.017578</td>\n",
       "    </tr>\n",
       "    <tr>\n",
       "      <th>4</th>\n",
       "      <td>0.179819</td>\n",
       "      <td>-0.668267</td>\n",
       "      <td>0.381849</td>\n",
       "      <td>-0.884196</td>\n",
       "      <td>0.758519</td>\n",
       "      <td>-1.026190</td>\n",
       "      <td>0.986227</td>\n",
       "      <td>-1.663167</td>\n",
       "      <td>2.290551</td>\n",
       "      <td>0.564845</td>\n",
       "      <td>0.436362</td>\n",
       "      <td>0.489439</td>\n",
       "      <td>0.889464</td>\n",
       "      <td>-0.298355</td>\n",
       "      <td>2.202697</td>\n",
       "      <td>0.615966</td>\n",
       "      <td>1.502395</td>\n",
       "      <td>0.713682</td>\n",
       "      <td>-1.132290</td>\n",
       "      <td>-0.987826</td>\n",
       "      <td>-0.974980</td>\n",
       "      <td>-2.483120</td>\n",
       "      <td>-0.700137</td>\n",
       "      <td>-0.153825</td>\n",
       "      <td>-1.835313</td>\n",
       "      <td>0.182131</td>\n",
       "      <td>0.890247</td>\n",
       "      <td>0.024791</td>\n",
       "      <td>1.489955</td>\n",
       "      <td>1.276357</td>\n",
       "      <td>-0.285144</td>\n",
       "      <td>1.066486</td>\n",
       "    </tr>\n",
       "  </tbody>\n",
       "</table>\n",
       "</div>"
      ],
      "text/plain": [
       "      var_1     var_2     var_3     var_4     var_5     var_6     var_7  \\\n",
       "0 -0.335864 -2.425701  0.452851 -1.381924 -0.425591 -1.461498 -0.417082   \n",
       "1  0.803535 -0.699433  0.095579  0.788053 -0.267674 -0.370746  0.636034   \n",
       "2 -0.408470 -0.361105 -0.857278  0.338294  2.317821 -0.099928  0.557053   \n",
       "3 -0.690599  0.777928 -0.079963  0.164086  1.721702  0.146761 -0.988636   \n",
       "4  0.179819 -0.668267  0.381849 -0.884196  0.758519 -1.026190  0.986227   \n",
       "\n",
       "      var_8     var_9    var_10    var_11    var_12    var_13    var_14  \\\n",
       "0 -0.944226 -0.351224  1.474046  1.167691 -1.054375  0.118942 -0.309185   \n",
       "1 -1.674584 -0.058465 -1.188973  1.285189 -0.598661  1.241800  1.642265   \n",
       "2 -0.847932  0.973471  0.101203  0.566673  0.845139  0.103693 -0.198625   \n",
       "3  0.885344  0.647053  0.674609 -0.227789 -0.030563  1.378098 -0.096259   \n",
       "4 -1.663167  2.290551  0.564845  0.436362  0.489439  0.889464 -0.298355   \n",
       "\n",
       "     var_15    var_16    var_17    var_18    var_19    var_20    var_21  \\\n",
       "0  0.511080  0.409288  1.506075 -1.241138 -0.363806 -0.713336 -0.563761   \n",
       "1  0.295339  1.739567  0.185418  2.097527  0.304736 -0.161477  2.023696   \n",
       "2  1.732118  1.168597  1.664781  0.406644 -1.055908  0.275147 -1.201917   \n",
       "3 -0.740124 -1.970933  0.508952 -1.719803  0.492262 -0.641031 -1.268461   \n",
       "4  2.202697  0.615966  1.502395  0.713682 -1.132290 -0.987826 -0.974980   \n",
       "\n",
       "     var_22    var_23    var_24    var_25    var_26    var_27    var_28  \\\n",
       "0 -0.258406  1.715714  0.300227  0.439828 -0.094772  1.551995  3.308446   \n",
       "1  0.672172 -1.348879 -0.899480 -1.271886  0.333734 -0.373565 -2.091508   \n",
       "2 -1.038029 -0.388353  0.918553 -1.984422  0.385055  1.161414 -1.280253   \n",
       "3 -0.018690  0.337074 -1.406224 -0.699728 -0.836068 -0.226315  1.260893   \n",
       "4 -2.483120 -0.700137 -0.153825 -1.835313  0.182131  0.890247  0.024791   \n",
       "\n",
       "     var_29    var_30    var_31    var_32  \n",
       "0 -0.391377  1.963829 -1.458605 -0.348652  \n",
       "1 -0.715245 -0.688441  0.910927 -0.746899  \n",
       "2  2.831802 -0.953771 -0.228466  0.766254  \n",
       "3 -0.781630 -0.219995  0.871289  0.017578  \n",
       "4  1.489955  1.276357 -0.285144  1.066486  "
      ]
     },
     "execution_count": 189,
     "metadata": {},
     "output_type": "execute_result"
    }
   ],
   "source": [
    "import pandas as pd\n",
    "df = pd.read_csv('https://raw.githubusercontent.com/Datamanim/datarepo/main/krdatacertificate/e7_p2_.csv')\n",
    "df.head(5)"
   ]
  },
  {
   "cell_type": "code",
   "execution_count": 190,
   "metadata": {},
   "outputs": [
    {
     "name": "stdout",
     "output_type": "stream",
     "text": [
      "-0.0629\n"
     ]
    }
   ],
   "source": [
    "# 32개의 변수간 상관관계를 확인 했을 때, var_11 컬럼과 상관계수의 절댓값이 가장 큰 변수를 찾아 해당 변수의 평균값을 구하여라\n",
    "sub = df.corr()['var_11'].abs().sort_values().index[-2]\n",
    "ans = round(df[sub].mean(),4)\n",
    "print(ans)"
   ]
  },
  {
   "cell_type": "code",
   "execution_count": 191,
   "metadata": {},
   "outputs": [
    {
     "name": "stdout",
     "output_type": "stream",
     "text": [
      "8\n"
     ]
    }
   ],
   "source": [
    "# **var_6 컬럼의 1,3사분위수 각각 IQR의 1.5배 벗어난 이상치의 숫자를 구하라 **\n",
    "from scipy.stats import zscore\n",
    "q1 = df['var_6'].quantile(1/4)\n",
    "q3 = df['var_6'].quantile(3/4)\n",
    "iqr = q3 - q1\n",
    "min = q1 - 1.5*iqr\n",
    "max = q3 + 1.5*iqr\n",
    "\n",
    "ans = df[(df['var_6']<min) | (df['var_6']>max)]['var_6'].count()\n",
    "print(ans)"
   ]
  },
  {
   "cell_type": "markdown",
   "metadata": {},
   "source": [
    "## 3유형"
   ]
  },
  {
   "cell_type": "code",
   "execution_count": 192,
   "metadata": {},
   "outputs": [
    {
     "data": {
      "text/html": [
       "<div>\n",
       "<style scoped>\n",
       "    .dataframe tbody tr th:only-of-type {\n",
       "        vertical-align: middle;\n",
       "    }\n",
       "\n",
       "    .dataframe tbody tr th {\n",
       "        vertical-align: top;\n",
       "    }\n",
       "\n",
       "    .dataframe thead th {\n",
       "        text-align: right;\n",
       "    }\n",
       "</style>\n",
       "<table border=\"1\" class=\"dataframe\">\n",
       "  <thead>\n",
       "    <tr style=\"text-align: right;\">\n",
       "      <th></th>\n",
       "      <th>Target</th>\n",
       "      <th>v1</th>\n",
       "      <th>v2</th>\n",
       "      <th>v3</th>\n",
       "      <th>v4</th>\n",
       "      <th>v5</th>\n",
       "      <th>v6</th>\n",
       "      <th>v7</th>\n",
       "      <th>v8</th>\n",
       "      <th>v9</th>\n",
       "      <th>v10</th>\n",
       "      <th>v11</th>\n",
       "      <th>v12</th>\n",
       "      <th>v13</th>\n",
       "      <th>v14</th>\n",
       "      <th>v15</th>\n",
       "      <th>v16</th>\n",
       "      <th>v17</th>\n",
       "      <th>v18</th>\n",
       "      <th>v19</th>\n",
       "      <th>v20</th>\n",
       "      <th>v21</th>\n",
       "    </tr>\n",
       "  </thead>\n",
       "  <tbody>\n",
       "    <tr>\n",
       "      <th>0</th>\n",
       "      <td>21.650072</td>\n",
       "      <td>0.496714</td>\n",
       "      <td>-0.138264</td>\n",
       "      <td>0.647689</td>\n",
       "      <td>1.523030</td>\n",
       "      <td>-0.234153</td>\n",
       "      <td>-0.234137</td>\n",
       "      <td>1.579213</td>\n",
       "      <td>0.767435</td>\n",
       "      <td>-0.469474</td>\n",
       "      <td>0.542560</td>\n",
       "      <td>-0.463418</td>\n",
       "      <td>-0.465730</td>\n",
       "      <td>0.241962</td>\n",
       "      <td>-1.913280</td>\n",
       "      <td>-1.724918</td>\n",
       "      <td>-0.562288</td>\n",
       "      <td>-1.012831</td>\n",
       "      <td>0.314247</td>\n",
       "      <td>-0.908024</td>\n",
       "      <td>-1.412304</td>\n",
       "      <td>1.465649</td>\n",
       "    </tr>\n",
       "    <tr>\n",
       "      <th>1</th>\n",
       "      <td>-19.469855</td>\n",
       "      <td>-0.225776</td>\n",
       "      <td>0.067528</td>\n",
       "      <td>-1.424748</td>\n",
       "      <td>-0.544383</td>\n",
       "      <td>0.110923</td>\n",
       "      <td>-1.150994</td>\n",
       "      <td>0.375698</td>\n",
       "      <td>-0.600639</td>\n",
       "      <td>-0.291694</td>\n",
       "      <td>-0.601707</td>\n",
       "      <td>1.852278</td>\n",
       "      <td>-0.013497</td>\n",
       "      <td>-1.057711</td>\n",
       "      <td>0.822545</td>\n",
       "      <td>-1.220844</td>\n",
       "      <td>0.208864</td>\n",
       "      <td>-1.959670</td>\n",
       "      <td>-1.328186</td>\n",
       "      <td>0.196861</td>\n",
       "      <td>0.738467</td>\n",
       "      <td>0.171368</td>\n",
       "    </tr>\n",
       "    <tr>\n",
       "      <th>2</th>\n",
       "      <td>-24.475600</td>\n",
       "      <td>-0.115648</td>\n",
       "      <td>-0.301104</td>\n",
       "      <td>-1.478522</td>\n",
       "      <td>-0.719844</td>\n",
       "      <td>-0.460639</td>\n",
       "      <td>1.057122</td>\n",
       "      <td>0.343618</td>\n",
       "      <td>-1.763040</td>\n",
       "      <td>0.324084</td>\n",
       "      <td>-0.385082</td>\n",
       "      <td>-0.676922</td>\n",
       "      <td>0.611676</td>\n",
       "      <td>1.031000</td>\n",
       "      <td>0.931280</td>\n",
       "      <td>-0.839218</td>\n",
       "      <td>-0.309212</td>\n",
       "      <td>0.331263</td>\n",
       "      <td>0.975545</td>\n",
       "      <td>-0.479174</td>\n",
       "      <td>-0.185659</td>\n",
       "      <td>-1.106335</td>\n",
       "    </tr>\n",
       "    <tr>\n",
       "      <th>3</th>\n",
       "      <td>13.476831</td>\n",
       "      <td>-1.196207</td>\n",
       "      <td>0.812526</td>\n",
       "      <td>1.356240</td>\n",
       "      <td>-0.072010</td>\n",
       "      <td>1.003533</td>\n",
       "      <td>0.361636</td>\n",
       "      <td>-0.645120</td>\n",
       "      <td>0.361396</td>\n",
       "      <td>1.538037</td>\n",
       "      <td>-0.035826</td>\n",
       "      <td>1.564644</td>\n",
       "      <td>-2.619745</td>\n",
       "      <td>0.821903</td>\n",
       "      <td>0.087047</td>\n",
       "      <td>-0.299007</td>\n",
       "      <td>0.091761</td>\n",
       "      <td>-1.987569</td>\n",
       "      <td>-0.219672</td>\n",
       "      <td>0.357113</td>\n",
       "      <td>1.477894</td>\n",
       "      <td>-0.518270</td>\n",
       "    </tr>\n",
       "    <tr>\n",
       "      <th>4</th>\n",
       "      <td>3.505322</td>\n",
       "      <td>-0.808494</td>\n",
       "      <td>-0.501757</td>\n",
       "      <td>0.915402</td>\n",
       "      <td>0.328751</td>\n",
       "      <td>-0.529760</td>\n",
       "      <td>0.513267</td>\n",
       "      <td>0.097078</td>\n",
       "      <td>0.968645</td>\n",
       "      <td>-0.702053</td>\n",
       "      <td>-0.327662</td>\n",
       "      <td>-0.392108</td>\n",
       "      <td>-1.463515</td>\n",
       "      <td>0.296120</td>\n",
       "      <td>0.261055</td>\n",
       "      <td>0.005113</td>\n",
       "      <td>-0.234587</td>\n",
       "      <td>-1.415371</td>\n",
       "      <td>-0.420645</td>\n",
       "      <td>-0.342715</td>\n",
       "      <td>-0.802277</td>\n",
       "      <td>-0.161286</td>\n",
       "    </tr>\n",
       "  </tbody>\n",
       "</table>\n",
       "</div>"
      ],
      "text/plain": [
       "      Target        v1        v2        v3        v4        v5        v6  \\\n",
       "0  21.650072  0.496714 -0.138264  0.647689  1.523030 -0.234153 -0.234137   \n",
       "1 -19.469855 -0.225776  0.067528 -1.424748 -0.544383  0.110923 -1.150994   \n",
       "2 -24.475600 -0.115648 -0.301104 -1.478522 -0.719844 -0.460639  1.057122   \n",
       "3  13.476831 -1.196207  0.812526  1.356240 -0.072010  1.003533  0.361636   \n",
       "4   3.505322 -0.808494 -0.501757  0.915402  0.328751 -0.529760  0.513267   \n",
       "\n",
       "         v7        v8        v9       v10       v11       v12       v13  \\\n",
       "0  1.579213  0.767435 -0.469474  0.542560 -0.463418 -0.465730  0.241962   \n",
       "1  0.375698 -0.600639 -0.291694 -0.601707  1.852278 -0.013497 -1.057711   \n",
       "2  0.343618 -1.763040  0.324084 -0.385082 -0.676922  0.611676  1.031000   \n",
       "3 -0.645120  0.361396  1.538037 -0.035826  1.564644 -2.619745  0.821903   \n",
       "4  0.097078  0.968645 -0.702053 -0.327662 -0.392108 -1.463515  0.296120   \n",
       "\n",
       "        v14       v15       v16       v17       v18       v19       v20  \\\n",
       "0 -1.913280 -1.724918 -0.562288 -1.012831  0.314247 -0.908024 -1.412304   \n",
       "1  0.822545 -1.220844  0.208864 -1.959670 -1.328186  0.196861  0.738467   \n",
       "2  0.931280 -0.839218 -0.309212  0.331263  0.975545 -0.479174 -0.185659   \n",
       "3  0.087047 -0.299007  0.091761 -1.987569 -0.219672  0.357113  1.477894   \n",
       "4  0.261055  0.005113 -0.234587 -1.415371 -0.420645 -0.342715 -0.802277   \n",
       "\n",
       "        v21  \n",
       "0  1.465649  \n",
       "1  0.171368  \n",
       "2 -1.106335  \n",
       "3 -0.518270  \n",
       "4 -0.161286  "
      ]
     },
     "execution_count": 192,
     "metadata": {},
     "output_type": "execute_result"
    }
   ],
   "source": [
    "import pandas as pd\n",
    "df=pd.read_csv('https://raw.githubusercontent.com/Datamanim/datarepo/main/krdatacertificate/e7_p3_1.csv')\n",
    "df.head()"
   ]
  },
  {
   "cell_type": "code",
   "execution_count": 193,
   "metadata": {},
   "outputs": [
    {
     "name": "stdout",
     "output_type": "stream",
     "text": [
      "0.6270251925517436\n"
     ]
    }
   ],
   "source": [
    "# 선형관계 가장 큰 변수 찾아 상관계수를 구하여라\n",
    "ans = df.corr()['Target'].abs().sort_values(ascending=False).values[1]\n",
    "print(ans)"
   ]
  },
  {
   "cell_type": "code",
   "execution_count": 194,
   "metadata": {},
   "outputs": [
    {
     "name": "stdout",
     "output_type": "stream",
     "text": [
      "6.4403013648430685\n"
     ]
    }
   ],
   "source": [
    "# Target 변수를 종속변수로 하여 다중선형회귀모델링을 진행했을 때 v2 컬럼의 회귀 계수는?\n",
    "import statsmodels.api as sm\n",
    "\n",
    "y = df['Target']\n",
    "X = df.drop(columns=['Target'])\n",
    "X = sm.add_constant(X)\n",
    "\n",
    "model = sm.OLS(y,X).fit()\n",
    "ans = model.params['v2']\n",
    "print(ans)"
   ]
  },
  {
   "cell_type": "code",
   "execution_count": 195,
   "metadata": {},
   "outputs": [
    {
     "name": "stdout",
     "output_type": "stream",
     "text": [
      "0.9265545986907606\n"
     ]
    }
   ],
   "source": [
    "# 회귀 계수들이 가지는 p값들 중 최대 값은?\n",
    "ans = model.pvalues.max()\n",
    "print(ans)"
   ]
  },
  {
   "cell_type": "code",
   "execution_count": 196,
   "metadata": {},
   "outputs": [
    {
     "data": {
      "text/html": [
       "<div>\n",
       "<style scoped>\n",
       "    .dataframe tbody tr th:only-of-type {\n",
       "        vertical-align: middle;\n",
       "    }\n",
       "\n",
       "    .dataframe tbody tr th {\n",
       "        vertical-align: top;\n",
       "    }\n",
       "\n",
       "    .dataframe thead th {\n",
       "        text-align: right;\n",
       "    }\n",
       "</style>\n",
       "<table border=\"1\" class=\"dataframe\">\n",
       "  <thead>\n",
       "    <tr style=\"text-align: right;\">\n",
       "      <th></th>\n",
       "      <th>age</th>\n",
       "      <th>sex</th>\n",
       "      <th>cp</th>\n",
       "      <th>trestbps</th>\n",
       "      <th>chol</th>\n",
       "      <th>fbs</th>\n",
       "      <th>restecg</th>\n",
       "      <th>thalach</th>\n",
       "      <th>exang</th>\n",
       "      <th>oldpeak</th>\n",
       "      <th>slope</th>\n",
       "      <th>ca</th>\n",
       "      <th>thal</th>\n",
       "      <th>target</th>\n",
       "    </tr>\n",
       "  </thead>\n",
       "  <tbody>\n",
       "    <tr>\n",
       "      <th>0</th>\n",
       "      <td>63.0</td>\n",
       "      <td>1.0</td>\n",
       "      <td>1.0</td>\n",
       "      <td>145.0</td>\n",
       "      <td>233.0</td>\n",
       "      <td>1.0</td>\n",
       "      <td>2.0</td>\n",
       "      <td>150.0</td>\n",
       "      <td>0.0</td>\n",
       "      <td>2.3</td>\n",
       "      <td>3.0</td>\n",
       "      <td>0.0</td>\n",
       "      <td>6.0</td>\n",
       "      <td>0</td>\n",
       "    </tr>\n",
       "    <tr>\n",
       "      <th>1</th>\n",
       "      <td>67.0</td>\n",
       "      <td>1.0</td>\n",
       "      <td>4.0</td>\n",
       "      <td>160.0</td>\n",
       "      <td>286.0</td>\n",
       "      <td>0.0</td>\n",
       "      <td>2.0</td>\n",
       "      <td>108.0</td>\n",
       "      <td>1.0</td>\n",
       "      <td>1.5</td>\n",
       "      <td>2.0</td>\n",
       "      <td>3.0</td>\n",
       "      <td>3.0</td>\n",
       "      <td>1</td>\n",
       "    </tr>\n",
       "    <tr>\n",
       "      <th>2</th>\n",
       "      <td>67.0</td>\n",
       "      <td>1.0</td>\n",
       "      <td>4.0</td>\n",
       "      <td>120.0</td>\n",
       "      <td>229.0</td>\n",
       "      <td>0.0</td>\n",
       "      <td>2.0</td>\n",
       "      <td>129.0</td>\n",
       "      <td>1.0</td>\n",
       "      <td>2.6</td>\n",
       "      <td>2.0</td>\n",
       "      <td>2.0</td>\n",
       "      <td>7.0</td>\n",
       "      <td>1</td>\n",
       "    </tr>\n",
       "    <tr>\n",
       "      <th>3</th>\n",
       "      <td>37.0</td>\n",
       "      <td>1.0</td>\n",
       "      <td>3.0</td>\n",
       "      <td>130.0</td>\n",
       "      <td>250.0</td>\n",
       "      <td>0.0</td>\n",
       "      <td>0.0</td>\n",
       "      <td>187.0</td>\n",
       "      <td>0.0</td>\n",
       "      <td>3.5</td>\n",
       "      <td>3.0</td>\n",
       "      <td>0.0</td>\n",
       "      <td>3.0</td>\n",
       "      <td>0</td>\n",
       "    </tr>\n",
       "    <tr>\n",
       "      <th>4</th>\n",
       "      <td>41.0</td>\n",
       "      <td>0.0</td>\n",
       "      <td>2.0</td>\n",
       "      <td>130.0</td>\n",
       "      <td>204.0</td>\n",
       "      <td>0.0</td>\n",
       "      <td>2.0</td>\n",
       "      <td>172.0</td>\n",
       "      <td>0.0</td>\n",
       "      <td>1.4</td>\n",
       "      <td>1.0</td>\n",
       "      <td>0.0</td>\n",
       "      <td>3.0</td>\n",
       "      <td>0</td>\n",
       "    </tr>\n",
       "  </tbody>\n",
       "</table>\n",
       "</div>"
      ],
      "text/plain": [
       "    age  sex   cp  trestbps   chol  fbs  restecg  thalach  exang  oldpeak  \\\n",
       "0  63.0  1.0  1.0     145.0  233.0  1.0      2.0    150.0    0.0      2.3   \n",
       "1  67.0  1.0  4.0     160.0  286.0  0.0      2.0    108.0    1.0      1.5   \n",
       "2  67.0  1.0  4.0     120.0  229.0  0.0      2.0    129.0    1.0      2.6   \n",
       "3  37.0  1.0  3.0     130.0  250.0  0.0      0.0    187.0    0.0      3.5   \n",
       "4  41.0  0.0  2.0     130.0  204.0  0.0      2.0    172.0    0.0      1.4   \n",
       "\n",
       "   slope   ca  thal  target  \n",
       "0    3.0  0.0   6.0       0  \n",
       "1    2.0  3.0   3.0       1  \n",
       "2    2.0  2.0   7.0       1  \n",
       "3    3.0  0.0   3.0       0  \n",
       "4    1.0  0.0   3.0       0  "
      ]
     },
     "execution_count": 196,
     "metadata": {},
     "output_type": "execute_result"
    }
   ],
   "source": [
    "import pandas as pd \n",
    "df= pd.read_csv('https://raw.githubusercontent.com/Datamanim/datarepo/main/krdatacertificate/e7_p3_t.csv')\n",
    "df.head()"
   ]
  },
  {
   "cell_type": "code",
   "execution_count": 197,
   "metadata": {},
   "outputs": [
    {
     "name": "stdout",
     "output_type": "stream",
     "text": [
      "Optimization terminated successfully.\n",
      "         Current function value: 0.356234\n",
      "         Iterations 7\n"
     ]
    },
    {
     "data": {
      "text/plain": [
       "0.9556117573419104"
      ]
     },
     "execution_count": 197,
     "metadata": {},
     "output_type": "execute_result"
    }
   ],
   "source": [
    "# train 데이터로 target을 종속변수로 로지스틱 회귀를 진행할 때 age 컬럼의 오즈비를 구하여라\n",
    "import statsmodels.api as sm\n",
    "y = df['target']\n",
    "x = df.drop(columns=['target'])\n",
    "\n",
    "model = sm.Logit(y,x).fit()\n",
    "\n",
    "odds_ratios = np.exp(model.params['age'])\n",
    "odds_ratios"
   ]
  },
  {
   "cell_type": "code",
   "execution_count": 198,
   "metadata": {},
   "outputs": [
    {
     "name": "stdout",
     "output_type": "stream",
     "text": [
      "211.60310196493367\n"
     ]
    }
   ],
   "source": [
    "# train으로 로지스틱 회귀 진행했을 경우 잔차 이탈도 (residual deviance)를 계산하라\n",
    "import statsmodels.api as sm\n",
    "y = df['target']\n",
    "x = df.drop(columns=['target'])\n",
    "\n",
    "model2 = sm.GLM(y, x, family=sm.families.Binomial()).fit()\n",
    "\n",
    "# 잔차 이탈도(residual deviance) 계산\n",
    "residual_deviance = model2.deviance\n",
    "print(residual_deviance)"
   ]
  },
  {
   "cell_type": "markdown",
   "metadata": {},
   "source": [
    "# 6회차"
   ]
  },
  {
   "cell_type": "markdown",
   "metadata": {},
   "source": [
    "## 1유형"
   ]
  },
  {
   "cell_type": "code",
   "execution_count": 199,
   "metadata": {},
   "outputs": [
    {
     "data": {
      "text/html": [
       "<div>\n",
       "<style scoped>\n",
       "    .dataframe tbody tr th:only-of-type {\n",
       "        vertical-align: middle;\n",
       "    }\n",
       "\n",
       "    .dataframe tbody tr th {\n",
       "        vertical-align: top;\n",
       "    }\n",
       "\n",
       "    .dataframe thead th {\n",
       "        text-align: right;\n",
       "    }\n",
       "</style>\n",
       "<table border=\"1\" class=\"dataframe\">\n",
       "  <thead>\n",
       "    <tr style=\"text-align: right;\">\n",
       "      <th></th>\n",
       "      <th>구급보고서번호</th>\n",
       "      <th>소방서명</th>\n",
       "      <th>환자증상구분명1</th>\n",
       "      <th>신고일자</th>\n",
       "      <th>신고시각</th>\n",
       "      <th>출동일자</th>\n",
       "      <th>출동시각</th>\n",
       "      <th>환자직업명</th>\n",
       "      <th>사고발생장소</th>\n",
       "    </tr>\n",
       "  </thead>\n",
       "  <tbody>\n",
       "    <tr>\n",
       "      <th>0</th>\n",
       "      <td>20211122103M01526</td>\n",
       "      <td>중랑소방서</td>\n",
       "      <td>심계항진</td>\n",
       "      <td>20210330</td>\n",
       "      <td>104800</td>\n",
       "      <td>20210330</td>\n",
       "      <td>105042</td>\n",
       "      <td>무직</td>\n",
       "      <td>집</td>\n",
       "    </tr>\n",
       "    <tr>\n",
       "      <th>1</th>\n",
       "      <td>20211111105M00771</td>\n",
       "      <td>노원소방서</td>\n",
       "      <td>복통</td>\n",
       "      <td>20210412</td>\n",
       "      <td>225600</td>\n",
       "      <td>20210412</td>\n",
       "      <td>225827</td>\n",
       "      <td>기타</td>\n",
       "      <td>집</td>\n",
       "    </tr>\n",
       "    <tr>\n",
       "      <th>2</th>\n",
       "      <td>20211115104M00864</td>\n",
       "      <td>서초소방서</td>\n",
       "      <td>심계항진</td>\n",
       "      <td>20210303</td>\n",
       "      <td>194100</td>\n",
       "      <td>20210303</td>\n",
       "      <td>194500</td>\n",
       "      <td>직장인</td>\n",
       "      <td>상업시설</td>\n",
       "    </tr>\n",
       "    <tr>\n",
       "      <th>3</th>\n",
       "      <td>20211113107M01869</td>\n",
       "      <td>마포소방서</td>\n",
       "      <td>고열</td>\n",
       "      <td>20211225</td>\n",
       "      <td>235400</td>\n",
       "      <td>20211226</td>\n",
       "      <td>331</td>\n",
       "      <td>유아</td>\n",
       "      <td>집</td>\n",
       "    </tr>\n",
       "    <tr>\n",
       "      <th>4</th>\n",
       "      <td>20211118102M05820</td>\n",
       "      <td>강동소방서</td>\n",
       "      <td>고열</td>\n",
       "      <td>20211019</td>\n",
       "      <td>12100</td>\n",
       "      <td>20211019</td>\n",
       "      <td>12322</td>\n",
       "      <td>무직</td>\n",
       "      <td>집</td>\n",
       "    </tr>\n",
       "  </tbody>\n",
       "</table>\n",
       "</div>"
      ],
      "text/plain": [
       "             구급보고서번호   소방서명 환자증상구분명1      신고일자    신고시각      출동일자    출동시각  \\\n",
       "0  20211122103M01526  중랑소방서     심계항진  20210330  104800  20210330  105042   \n",
       "1  20211111105M00771  노원소방서       복통  20210412  225600  20210412  225827   \n",
       "2  20211115104M00864  서초소방서     심계항진  20210303  194100  20210303  194500   \n",
       "3  20211113107M01869  마포소방서       고열  20211225  235400  20211226     331   \n",
       "4  20211118102M05820  강동소방서       고열  20211019   12100  20211019   12322   \n",
       "\n",
       "  환자직업명 사고발생장소  \n",
       "0    무직      집  \n",
       "1    기타      집  \n",
       "2   직장인   상업시설  \n",
       "3    유아      집  \n",
       "4    무직      집  "
      ]
     },
     "execution_count": 199,
     "metadata": {},
     "output_type": "execute_result"
    }
   ],
   "source": [
    "import pandas as pd\n",
    "df = pd.read_csv('https://raw.githubusercontent.com/Datamanim/datarepo/main/krdatacertificate/e6_p1_1.csv')\n",
    "df.head(5)"
   ]
  },
  {
   "cell_type": "code",
   "execution_count": 200,
   "metadata": {},
   "outputs": [
    {
     "name": "stdout",
     "output_type": "stream",
     "text": [
      "['종로소방서' 175.5]\n"
     ]
    }
   ],
   "source": [
    "# 각 구급 보고서 별 출동시각과 신고시각의 차이를 ‘소요시간’ 컬럼을 만들고 초(sec)단위로 구하고 \n",
    "# 소방서명 별 소요시간의 평균을 오름차순으로 정렬 했을때 3번째로 작은 소요시간의 값과 소방서명을  출력하라\n",
    "df['소요시각'] = (pd.to_datetime(df['출동일자'].astype('str') + df['출동시각'].astype('str').str.zfill(6))-pd.to_datetime(df['신고일자'].astype('str')+df['신고시각'].astype('str').str.zfill(6))).dt.total_seconds()\n",
    "\n",
    "ans = df.groupby('소방서명')['소요시각'].mean().sort_values().reset_index().iloc[2].values\n",
    "print(ans)"
   ]
  },
  {
   "cell_type": "code",
   "execution_count": 201,
   "metadata": {},
   "outputs": [
    {
     "data": {
      "text/html": [
       "<div>\n",
       "<style scoped>\n",
       "    .dataframe tbody tr th:only-of-type {\n",
       "        vertical-align: middle;\n",
       "    }\n",
       "\n",
       "    .dataframe tbody tr th {\n",
       "        vertical-align: top;\n",
       "    }\n",
       "\n",
       "    .dataframe thead th {\n",
       "        text-align: right;\n",
       "    }\n",
       "</style>\n",
       "<table border=\"1\" class=\"dataframe\">\n",
       "  <thead>\n",
       "    <tr style=\"text-align: right;\">\n",
       "      <th></th>\n",
       "      <th>학교명</th>\n",
       "      <th>시도</th>\n",
       "      <th>학교세부유형</th>\n",
       "      <th>일반학급_학생수_계</th>\n",
       "      <th>교원수_총계_계</th>\n",
       "    </tr>\n",
       "  </thead>\n",
       "  <tbody>\n",
       "    <tr>\n",
       "      <th>0</th>\n",
       "      <td>서울대학교사범대학부설고등학교</td>\n",
       "      <td>서울</td>\n",
       "      <td>일반고등학교</td>\n",
       "      <td>689</td>\n",
       "      <td>73</td>\n",
       "    </tr>\n",
       "    <tr>\n",
       "      <th>1</th>\n",
       "      <td>가락고등학교</td>\n",
       "      <td>서울</td>\n",
       "      <td>일반고등학교</td>\n",
       "      <td>765</td>\n",
       "      <td>70</td>\n",
       "    </tr>\n",
       "    <tr>\n",
       "      <th>2</th>\n",
       "      <td>개포고등학교</td>\n",
       "      <td>서울</td>\n",
       "      <td>일반고등학교</td>\n",
       "      <td>684</td>\n",
       "      <td>69</td>\n",
       "    </tr>\n",
       "    <tr>\n",
       "      <th>3</th>\n",
       "      <td>경기고등학교</td>\n",
       "      <td>서울</td>\n",
       "      <td>일반고등학교</td>\n",
       "      <td>1047</td>\n",
       "      <td>96</td>\n",
       "    </tr>\n",
       "    <tr>\n",
       "      <th>4</th>\n",
       "      <td>경동고등학교</td>\n",
       "      <td>서울</td>\n",
       "      <td>일반고등학교</td>\n",
       "      <td>529</td>\n",
       "      <td>58</td>\n",
       "    </tr>\n",
       "  </tbody>\n",
       "</table>\n",
       "</div>"
      ],
      "text/plain": [
       "               학교명  시도  학교세부유형  일반학급_학생수_계  교원수_총계_계\n",
       "0  서울대학교사범대학부설고등학교  서울  일반고등학교         689        73\n",
       "1           가락고등학교  서울  일반고등학교         765        70\n",
       "2           개포고등학교  서울  일반고등학교         684        69\n",
       "3           경기고등학교  서울  일반고등학교        1047        96\n",
       "4           경동고등학교  서울  일반고등학교         529        58"
      ]
     },
     "execution_count": 201,
     "metadata": {},
     "output_type": "execute_result"
    }
   ],
   "source": [
    "import pandas as pd\n",
    "df = pd.read_csv('https://raw.githubusercontent.com/Datamanim/datarepo/main/krdatacertificate/e6_p1_2.csv')\n",
    "df.head(5)"
   ]
  },
  {
   "cell_type": "code",
   "execution_count": 202,
   "metadata": {},
   "outputs": [
    {
     "name": "stdout",
     "output_type": "stream",
     "text": [
      "294    33\n",
      "Name: 교원수_총계_계, dtype: int64\n"
     ]
    }
   ],
   "source": [
    "# 학교 세부유형이 일반중학교인 학교들 중 일반중학교 숫자가 2번째로 많은 시도의 일반중학교 데이터만 필터하여 \n",
    "# 해당 시도의 교원 한명 당 맡은 학생수가 가장 많은 학교를 찾아서 해당 학교의 교원수를  출력하라\n",
    "sub = df[df['학교세부유형'] == '일반중학교']['시도'].value_counts().index[1]\n",
    "fit = df[(df['학교세부유형'] =='일반중학교') & (df['시도'] ==sub)].reset_index(drop=True)\n",
    "fit['ans'] = fit['일반학급_학생수_계'] / fit['교원수_총계_계']\n",
    "fit.sort_values('ans').dropna()\n",
    "print(fit[fit['학교명'] == '단국대학교사범대학부속중학교']['교원수_총계_계'])"
   ]
  },
  {
   "cell_type": "code",
   "execution_count": 203,
   "metadata": {},
   "outputs": [
    {
     "data": {
      "text/html": [
       "<div>\n",
       "<style scoped>\n",
       "    .dataframe tbody tr th:only-of-type {\n",
       "        vertical-align: middle;\n",
       "    }\n",
       "\n",
       "    .dataframe tbody tr th {\n",
       "        vertical-align: top;\n",
       "    }\n",
       "\n",
       "    .dataframe thead th {\n",
       "        text-align: right;\n",
       "    }\n",
       "</style>\n",
       "<table border=\"1\" class=\"dataframe\">\n",
       "  <thead>\n",
       "    <tr style=\"text-align: right;\">\n",
       "      <th></th>\n",
       "      <th>범죄분류</th>\n",
       "      <th>절도</th>\n",
       "      <th>사기</th>\n",
       "      <th>배임</th>\n",
       "      <th>방화</th>\n",
       "      <th>폭행</th>\n",
       "    </tr>\n",
       "  </thead>\n",
       "  <tbody>\n",
       "    <tr>\n",
       "      <th>0</th>\n",
       "      <td>2018년_1월</td>\n",
       "      <td>13280</td>\n",
       "      <td>25318</td>\n",
       "      <td>656</td>\n",
       "      <td>143</td>\n",
       "      <td>12186</td>\n",
       "    </tr>\n",
       "    <tr>\n",
       "      <th>1</th>\n",
       "      <td>2018년_2월</td>\n",
       "      <td>12504</td>\n",
       "      <td>19159</td>\n",
       "      <td>403</td>\n",
       "      <td>135</td>\n",
       "      <td>12087</td>\n",
       "    </tr>\n",
       "    <tr>\n",
       "      <th>2</th>\n",
       "      <td>2018년_3월</td>\n",
       "      <td>14733</td>\n",
       "      <td>24509</td>\n",
       "      <td>471</td>\n",
       "      <td>148</td>\n",
       "      <td>13841</td>\n",
       "    </tr>\n",
       "    <tr>\n",
       "      <th>3</th>\n",
       "      <td>2018년_4월</td>\n",
       "      <td>14781</td>\n",
       "      <td>23147</td>\n",
       "      <td>414</td>\n",
       "      <td>135</td>\n",
       "      <td>13973</td>\n",
       "    </tr>\n",
       "    <tr>\n",
       "      <th>4</th>\n",
       "      <td>2018년_5월</td>\n",
       "      <td>15988</td>\n",
       "      <td>23584</td>\n",
       "      <td>451</td>\n",
       "      <td>127</td>\n",
       "      <td>14117</td>\n",
       "    </tr>\n",
       "  </tbody>\n",
       "</table>\n",
       "</div>"
      ],
      "text/plain": [
       "       범죄분류     절도     사기   배임   방화     폭행\n",
       "0  2018년_1월  13280  25318  656  143  12186\n",
       "1  2018년_2월  12504  19159  403  135  12087\n",
       "2  2018년_3월  14733  24509  471  148  13841\n",
       "3  2018년_4월  14781  23147  414  135  13973\n",
       "4  2018년_5월  15988  23584  451  127  14117"
      ]
     },
     "execution_count": 203,
     "metadata": {},
     "output_type": "execute_result"
    }
   ],
   "source": [
    "import pandas as pd\n",
    "df = pd.read_csv('https://raw.githubusercontent.com/Datamanim/datarepo/main/krdatacertificate/e6_p1_3.csv')\n",
    "df.head(5)"
   ]
  },
  {
   "cell_type": "code",
   "execution_count": 204,
   "metadata": {},
   "outputs": [
    {
     "name": "stdout",
     "output_type": "stream",
     "text": [
      "27766\n"
     ]
    }
   ],
   "source": [
    "# **5대 범죄(절도, 사기, 배임, 방화, 폭행)의 월별 총 발생건수를 총범죄수라고 표현하자. \n",
    "# 18,19년의 각각 분기별 총범죄수의 월평균 값을 구했을때 최대값을 가지는 년도와 분기를 구하고 해당 분기의 최댓값의 사기가 발생한 월의 사기 발생건수를  출력하라\n",
    "# (1분기:1,2,3월 / 2분기 : 4,5,6월 / 3분기 7,8,9월 / 4분기 10,11,12월 , 1분기 월평균 : 1,2,3월의 총범죄수 평균) **\n",
    "\n",
    "df['총범죄수'] = df['절도'] + df['사기'] + df['사기'] + df['방화'] + df['폭행']\n",
    "df['분기'] = [x+'_'+str(y) for x in ['2018','2019'] for y in range(1,5) for z in range(3)]\n",
    "\n",
    "max_ = df.groupby(['분기'])['총범죄수'].mean().sort_values().index[-1] # '2019_02'\n",
    "result = df[df.분기 ==max_].사기.max()\n",
    "print(result)"
   ]
  },
  {
   "cell_type": "markdown",
   "metadata": {},
   "source": [
    "## 3유형"
   ]
  },
  {
   "cell_type": "code",
   "execution_count": 205,
   "metadata": {},
   "outputs": [],
   "source": [
    "# 도시의 남성 600명과 여성 550명이 있다. 남성들 중 흡연자 비율은 0.2이며 여성들 중 흡연자 비율은 0.26이다.\n",
    "from scipy.stats import chi2_contingency\n",
    "\n",
    "# 남성과 여성의 인구 수\n",
    "total_male = 600\n",
    "total_female = 550\n",
    "\n",
    "# 남성과 여성 중 흡연자의 비율\n",
    "smoking_ratio_male = 0.2\n",
    "smoking_ratio_female = 0.26"
   ]
  },
  {
   "cell_type": "code",
   "execution_count": 206,
   "metadata": {},
   "outputs": [
    {
     "name": "stdout",
     "output_type": "stream",
     "text": [
      "기각 0.018786854975740765\n"
     ]
    }
   ],
   "source": [
    "# 남성과 여성 간에 흡연 여부에 따른 인구 비율이 다른지 확인하고 싶다. \n",
    "# 유의 수준 0.05하 귀무가설에 대해 기각 / 채택 여부와 p-value값을 각각 출력하라\n",
    "\n",
    "# 흡연자와 비흡연자의 인구 수 계산\n",
    "smoking_male = int(total_male * smoking_ratio_male)\n",
    "non_smoking_male = int(total_male - smoking_male)\n",
    "\n",
    "smoking_female = total_female * smoking_ratio_female\n",
    "non_smoking_female = total_female - smoking_female\n",
    "\n",
    "# 데이터 배열 생성 (빈도로 변환)\n",
    "data = np.array([[smoking_male, non_smoking_male], [smoking_female, non_smoking_female]])\n",
    "\n",
    "# 카이제곱 검정 수행\n",
    "chi2_stat, p_val, dof, expected = chi2_contingency(data)\n",
    "\n",
    "print('기각',p_val)"
   ]
  },
  {
   "cell_type": "code",
   "execution_count": 207,
   "metadata": {},
   "outputs": [
    {
     "data": {
      "text/html": [
       "<div>\n",
       "<style scoped>\n",
       "    .dataframe tbody tr th:only-of-type {\n",
       "        vertical-align: middle;\n",
       "    }\n",
       "\n",
       "    .dataframe tbody tr th {\n",
       "        vertical-align: top;\n",
       "    }\n",
       "\n",
       "    .dataframe thead th {\n",
       "        text-align: right;\n",
       "    }\n",
       "</style>\n",
       "<table border=\"1\" class=\"dataframe\">\n",
       "  <thead>\n",
       "    <tr style=\"text-align: right;\">\n",
       "      <th></th>\n",
       "      <th>age</th>\n",
       "      <th>Cholesterol</th>\n",
       "      <th>weight</th>\n",
       "    </tr>\n",
       "  </thead>\n",
       "  <tbody>\n",
       "    <tr>\n",
       "      <th>0</th>\n",
       "      <td>65</td>\n",
       "      <td>69.0</td>\n",
       "      <td>111.0</td>\n",
       "    </tr>\n",
       "    <tr>\n",
       "      <th>1</th>\n",
       "      <td>54</td>\n",
       "      <td>117.0</td>\n",
       "      <td>81.0</td>\n",
       "    </tr>\n",
       "    <tr>\n",
       "      <th>2</th>\n",
       "      <td>61</td>\n",
       "      <td>86.2</td>\n",
       "      <td>72.0</td>\n",
       "    </tr>\n",
       "    <tr>\n",
       "      <th>3</th>\n",
       "      <td>57</td>\n",
       "      <td>76.0</td>\n",
       "      <td>78.0</td>\n",
       "    </tr>\n",
       "    <tr>\n",
       "      <th>4</th>\n",
       "      <td>62</td>\n",
       "      <td>160.0</td>\n",
       "      <td>61.0</td>\n",
       "    </tr>\n",
       "  </tbody>\n",
       "</table>\n",
       "</div>"
      ],
      "text/plain": [
       "   age  Cholesterol  weight\n",
       "0   65         69.0   111.0\n",
       "1   54        117.0    81.0\n",
       "2   61         86.2    72.0\n",
       "3   57         76.0    78.0\n",
       "4   62        160.0    61.0"
      ]
     },
     "execution_count": 207,
     "metadata": {},
     "output_type": "execute_result"
    }
   ],
   "source": [
    "import pandas as pd \n",
    "df= pd.read_csv('https://raw.githubusercontent.com/Datamanim/datarepo/main/adp/28/p7.csv')\n",
    "df.head()"
   ]
  },
  {
   "cell_type": "code",
   "execution_count": 208,
   "metadata": {},
   "outputs": [
    {
     "name": "stdout",
     "output_type": "stream",
     "text": [
      "-0.03610166914386536\n"
     ]
    }
   ],
   "source": [
    "# age와 Cholesterol을 가지고 weight를 예측하는 선형 회귀 모델을 만들려고한다. age의 회귀 계수를 구하여라\n",
    "import statsmodels.api as sm\n",
    "\n",
    "y = df['weight']\n",
    "x = df.drop(columns=['weight'])\n",
    "x = sm.add_constant(x)\n",
    "\n",
    "model = sm.OLS(y,x).fit()\n",
    "print(model.params['age'])"
   ]
  },
  {
   "cell_type": "code",
   "execution_count": 209,
   "metadata": {},
   "outputs": [
    {
     "name": "stdout",
     "output_type": "stream",
     "text": [
      "선형 관계에 있다.\n"
     ]
    }
   ],
   "source": [
    "# age가 고정일 때 Cholesterol와 weight가 선형관계에 있다는 가설을 유의수준 0.05하에 검정하라\n",
    "H = model.pvalues['Cholesterol']\n",
    "\n",
    "if H <0.05 : \n",
    "    print('선형 관계에 있다.')\n",
    "    \n",
    "else:\n",
    "    print('선형 관계에 없다.')"
   ]
  },
  {
   "cell_type": "code",
   "execution_count": 210,
   "metadata": {},
   "outputs": [
    {
     "name": "stdout",
     "output_type": "stream",
     "text": [
      "78.8577101134459\n"
     ]
    }
   ],
   "source": [
    "# age가 55, Cholesterol가 72.6일때 위 모델을 기반으로 weight값을 예측하라.\n",
    "ans = model.predict([1,55,72.6])\n",
    "print(ans[0])"
   ]
  },
  {
   "cell_type": "markdown",
   "metadata": {},
   "source": [
    "# 5회차"
   ]
  },
  {
   "cell_type": "markdown",
   "metadata": {},
   "source": [
    "## 1유형"
   ]
  },
  {
   "cell_type": "code",
   "execution_count": 211,
   "metadata": {},
   "outputs": [
    {
     "data": {
      "text/html": [
       "<div>\n",
       "<style scoped>\n",
       "    .dataframe tbody tr th:only-of-type {\n",
       "        vertical-align: middle;\n",
       "    }\n",
       "\n",
       "    .dataframe tbody tr th {\n",
       "        vertical-align: top;\n",
       "    }\n",
       "\n",
       "    .dataframe thead th {\n",
       "        text-align: right;\n",
       "    }\n",
       "</style>\n",
       "<table border=\"1\" class=\"dataframe\">\n",
       "  <thead>\n",
       "    <tr style=\"text-align: right;\">\n",
       "      <th></th>\n",
       "      <th>시도명</th>\n",
       "      <th>시군구명</th>\n",
       "      <th>종량제봉투종류</th>\n",
       "      <th>종량제봉투처리방식</th>\n",
       "      <th>종량제봉투용도</th>\n",
       "      <th>종량제봉투사용대상</th>\n",
       "      <th>1L가격</th>\n",
       "      <th>1.5L가격</th>\n",
       "      <th>2L가격</th>\n",
       "      <th>2.5L가격</th>\n",
       "      <th>3L가격</th>\n",
       "      <th>5L가격</th>\n",
       "      <th>10L가격</th>\n",
       "      <th>20L가격</th>\n",
       "      <th>30L가격</th>\n",
       "      <th>50L가격</th>\n",
       "      <th>60L가격</th>\n",
       "      <th>75L가격</th>\n",
       "      <th>100L가격</th>\n",
       "      <th>120L가격</th>\n",
       "      <th>125L가격</th>\n",
       "      <th>관리부서명</th>\n",
       "      <th>관리부서전화번호</th>\n",
       "      <th>데이터기준일자</th>\n",
       "      <th>제공기관코드</th>\n",
       "      <th>제공기관명</th>\n",
       "    </tr>\n",
       "  </thead>\n",
       "  <tbody>\n",
       "    <tr>\n",
       "      <th>0</th>\n",
       "      <td>경기도</td>\n",
       "      <td>안양시</td>\n",
       "      <td>규격봉투</td>\n",
       "      <td>매립용</td>\n",
       "      <td>생활쓰레기</td>\n",
       "      <td>사업장용</td>\n",
       "      <td>0</td>\n",
       "      <td>0</td>\n",
       "      <td>0</td>\n",
       "      <td>0</td>\n",
       "      <td>0</td>\n",
       "      <td>150</td>\n",
       "      <td>300</td>\n",
       "      <td>550</td>\n",
       "      <td>0</td>\n",
       "      <td>1400</td>\n",
       "      <td>0</td>\n",
       "      <td>2100</td>\n",
       "      <td>0</td>\n",
       "      <td>0</td>\n",
       "      <td>0</td>\n",
       "      <td>자원순환과</td>\n",
       "      <td>031-8045-5448</td>\n",
       "      <td>2022-08-12</td>\n",
       "      <td>3830000</td>\n",
       "      <td>경기도 안양시</td>\n",
       "    </tr>\n",
       "    <tr>\n",
       "      <th>1</th>\n",
       "      <td>경기도</td>\n",
       "      <td>안양시</td>\n",
       "      <td>규격봉투</td>\n",
       "      <td>매립용</td>\n",
       "      <td>생활쓰레기</td>\n",
       "      <td>기타</td>\n",
       "      <td>0</td>\n",
       "      <td>0</td>\n",
       "      <td>0</td>\n",
       "      <td>0</td>\n",
       "      <td>0</td>\n",
       "      <td>150</td>\n",
       "      <td>300</td>\n",
       "      <td>550</td>\n",
       "      <td>0</td>\n",
       "      <td>1400</td>\n",
       "      <td>0</td>\n",
       "      <td>2100</td>\n",
       "      <td>0</td>\n",
       "      <td>0</td>\n",
       "      <td>0</td>\n",
       "      <td>자원순환과</td>\n",
       "      <td>031-8045-5448</td>\n",
       "      <td>2022-08-12</td>\n",
       "      <td>3830000</td>\n",
       "      <td>경기도 안양시</td>\n",
       "    </tr>\n",
       "    <tr>\n",
       "      <th>2</th>\n",
       "      <td>경기도</td>\n",
       "      <td>안양시</td>\n",
       "      <td>규격봉투</td>\n",
       "      <td>소각용</td>\n",
       "      <td>음식물쓰레기</td>\n",
       "      <td>가정용</td>\n",
       "      <td>0</td>\n",
       "      <td>50</td>\n",
       "      <td>0</td>\n",
       "      <td>80</td>\n",
       "      <td>0</td>\n",
       "      <td>150</td>\n",
       "      <td>300</td>\n",
       "      <td>550</td>\n",
       "      <td>0</td>\n",
       "      <td>0</td>\n",
       "      <td>0</td>\n",
       "      <td>0</td>\n",
       "      <td>0</td>\n",
       "      <td>0</td>\n",
       "      <td>0</td>\n",
       "      <td>자원순환과</td>\n",
       "      <td>031-8045-5448</td>\n",
       "      <td>2022-08-12</td>\n",
       "      <td>3830000</td>\n",
       "      <td>경기도 안양시</td>\n",
       "    </tr>\n",
       "    <tr>\n",
       "      <th>3</th>\n",
       "      <td>경기도</td>\n",
       "      <td>안양시</td>\n",
       "      <td>규격봉투</td>\n",
       "      <td>소각용</td>\n",
       "      <td>음식물쓰레기</td>\n",
       "      <td>사업장용</td>\n",
       "      <td>0</td>\n",
       "      <td>50</td>\n",
       "      <td>0</td>\n",
       "      <td>80</td>\n",
       "      <td>0</td>\n",
       "      <td>150</td>\n",
       "      <td>300</td>\n",
       "      <td>550</td>\n",
       "      <td>0</td>\n",
       "      <td>0</td>\n",
       "      <td>0</td>\n",
       "      <td>0</td>\n",
       "      <td>0</td>\n",
       "      <td>0</td>\n",
       "      <td>0</td>\n",
       "      <td>자원순환과</td>\n",
       "      <td>031-8045-5448</td>\n",
       "      <td>2022-08-12</td>\n",
       "      <td>3830000</td>\n",
       "      <td>경기도 안양시</td>\n",
       "    </tr>\n",
       "    <tr>\n",
       "      <th>4</th>\n",
       "      <td>경기도</td>\n",
       "      <td>안양시</td>\n",
       "      <td>규격봉투</td>\n",
       "      <td>소각용</td>\n",
       "      <td>음식물쓰레기</td>\n",
       "      <td>기타</td>\n",
       "      <td>0</td>\n",
       "      <td>50</td>\n",
       "      <td>0</td>\n",
       "      <td>80</td>\n",
       "      <td>0</td>\n",
       "      <td>150</td>\n",
       "      <td>300</td>\n",
       "      <td>550</td>\n",
       "      <td>0</td>\n",
       "      <td>0</td>\n",
       "      <td>0</td>\n",
       "      <td>0</td>\n",
       "      <td>0</td>\n",
       "      <td>0</td>\n",
       "      <td>0</td>\n",
       "      <td>자원순환과</td>\n",
       "      <td>031-8045-5448</td>\n",
       "      <td>2022-08-12</td>\n",
       "      <td>3830000</td>\n",
       "      <td>경기도 안양시</td>\n",
       "    </tr>\n",
       "  </tbody>\n",
       "</table>\n",
       "</div>"
      ],
      "text/plain": [
       "   시도명 시군구명 종량제봉투종류 종량제봉투처리방식 종량제봉투용도 종량제봉투사용대상  1L가격  1.5L가격  2L가격  2.5L가격  \\\n",
       "0  경기도  안양시    규격봉투       매립용   생활쓰레기      사업장용     0       0     0       0   \n",
       "1  경기도  안양시    규격봉투       매립용   생활쓰레기        기타     0       0     0       0   \n",
       "2  경기도  안양시    규격봉투       소각용  음식물쓰레기       가정용     0      50     0      80   \n",
       "3  경기도  안양시    규격봉투       소각용  음식물쓰레기      사업장용     0      50     0      80   \n",
       "4  경기도  안양시    규격봉투       소각용  음식물쓰레기        기타     0      50     0      80   \n",
       "\n",
       "   3L가격  5L가격  10L가격  20L가격  30L가격  50L가격  60L가격  75L가격  100L가격  120L가격  \\\n",
       "0     0   150    300    550      0   1400      0   2100       0       0   \n",
       "1     0   150    300    550      0   1400      0   2100       0       0   \n",
       "2     0   150    300    550      0      0      0      0       0       0   \n",
       "3     0   150    300    550      0      0      0      0       0       0   \n",
       "4     0   150    300    550      0      0      0      0       0       0   \n",
       "\n",
       "   125L가격  관리부서명       관리부서전화번호     데이터기준일자   제공기관코드    제공기관명  \n",
       "0       0  자원순환과  031-8045-5448  2022-08-12  3830000  경기도 안양시  \n",
       "1       0  자원순환과  031-8045-5448  2022-08-12  3830000  경기도 안양시  \n",
       "2       0  자원순환과  031-8045-5448  2022-08-12  3830000  경기도 안양시  \n",
       "3       0  자원순환과  031-8045-5448  2022-08-12  3830000  경기도 안양시  \n",
       "4       0  자원순환과  031-8045-5448  2022-08-12  3830000  경기도 안양시  "
      ]
     },
     "execution_count": 211,
     "metadata": {},
     "output_type": "execute_result"
    }
   ],
   "source": [
    "import pandas as pd\n",
    "df = pd.read_csv('https://raw.githubusercontent.com/Datamanim/datarepo/main/krdatacertificate/e5_p1_1_.csv')\n",
    "df.head(5)"
   ]
  },
  {
   "cell_type": "code",
   "execution_count": 220,
   "metadata": {},
   "outputs": [
    {
     "name": "stdout",
     "output_type": "stream",
     "text": [
      "[619.]\n"
     ]
    }
   ],
   "source": [
    "# 20L가격과 5L가격이 모두 0원이 아닌 데이터만 필터를 한 후, 각 row별로 20L가격과 5L가격의 차이를 ‘차이가격’ 이라 부른다고 하자. \n",
    "# 시도명 별 차이가격의 평균가격을 비교할때 그 값이 가장 큰 금액을 반올림하여 소숫점 이하 1자리까지 구하여라\n",
    "\n",
    "df_fit = df[(df['5L가격']!=0) & (df['20L가격'] !=0)].reset_index(drop=True)\n",
    "df_fit['차이가격'] = df_fit['20L가격'] - df_fit['5L가격']\n",
    "ans = df_fit.groupby('시도명')['차이가격'].mean().sort_values().to_frame()\n",
    "print(ans.values[-1])"
   ]
  },
  {
   "cell_type": "code",
   "execution_count": 221,
   "metadata": {},
   "outputs": [
    {
     "data": {
      "text/html": [
       "<div>\n",
       "<style scoped>\n",
       "    .dataframe tbody tr th:only-of-type {\n",
       "        vertical-align: middle;\n",
       "    }\n",
       "\n",
       "    .dataframe tbody tr th {\n",
       "        vertical-align: top;\n",
       "    }\n",
       "\n",
       "    .dataframe thead th {\n",
       "        text-align: right;\n",
       "    }\n",
       "</style>\n",
       "<table border=\"1\" class=\"dataframe\">\n",
       "  <thead>\n",
       "    <tr style=\"text-align: right;\">\n",
       "      <th></th>\n",
       "      <th>ID</th>\n",
       "      <th>height(cm)</th>\n",
       "      <th>weight(kg)</th>\n",
       "    </tr>\n",
       "  </thead>\n",
       "  <tbody>\n",
       "    <tr>\n",
       "      <th>0</th>\n",
       "      <td>user_1</td>\n",
       "      <td>173.0</td>\n",
       "      <td>67.5</td>\n",
       "    </tr>\n",
       "    <tr>\n",
       "      <th>1</th>\n",
       "      <td>user_2</td>\n",
       "      <td>149.5</td>\n",
       "      <td>82.5</td>\n",
       "    </tr>\n",
       "    <tr>\n",
       "      <th>2</th>\n",
       "      <td>user_3</td>\n",
       "      <td>143.8</td>\n",
       "      <td>64.6</td>\n",
       "    </tr>\n",
       "    <tr>\n",
       "      <th>3</th>\n",
       "      <td>user_4</td>\n",
       "      <td>163.1</td>\n",
       "      <td>87.2</td>\n",
       "    </tr>\n",
       "    <tr>\n",
       "      <th>4</th>\n",
       "      <td>user_5</td>\n",
       "      <td>159.6</td>\n",
       "      <td>77.1</td>\n",
       "    </tr>\n",
       "  </tbody>\n",
       "</table>\n",
       "</div>"
      ],
      "text/plain": [
       "       ID  height(cm)  weight(kg)\n",
       "0  user_1       173.0        67.5\n",
       "1  user_2       149.5        82.5\n",
       "2  user_3       143.8        64.6\n",
       "3  user_4       163.1        87.2\n",
       "4  user_5       159.6        77.1"
      ]
     },
     "execution_count": 221,
     "metadata": {},
     "output_type": "execute_result"
    }
   ],
   "source": [
    "import pandas as pd\n",
    "df = pd.read_csv('https://raw.githubusercontent.com/Datamanim/datarepo/main/krdatacertificate/e5_p1_2_.csv')\n",
    "df.head(5)"
   ]
  },
  {
   "cell_type": "code",
   "execution_count": 229,
   "metadata": {},
   "outputs": [
    {
     "name": "stdout",
     "output_type": "stream",
     "text": [
      "8998\n"
     ]
    }
   ],
   "source": [
    "# BMI는 몸무게(kg) / (키(M) * 키(M)) 로 정의 된다. \n",
    "# 초고도 비만은 BMI 25이상 , 고도 비반은 BMI 25미만 - 23이상 , 정상은 23미만 - 18.5이상 저체중은 18.5미만으로 정의 된다. \n",
    "# 주어진 데이터에서 초고도비만 인원 + 저체중 인원 의 숫자는?\n",
    "df['BMI'] = df['weight(kg)'] / pow(df['height(cm)'],2) * 10000\n",
    "ans = df[(df['BMI']>=25) | (df['BMI']<=18.5)]['ID'].count()\n",
    "print(ans)"
   ]
  },
  {
   "cell_type": "code",
   "execution_count": 230,
   "metadata": {},
   "outputs": [
    {
     "data": {
      "text/html": [
       "<div>\n",
       "<style scoped>\n",
       "    .dataframe tbody tr th:only-of-type {\n",
       "        vertical-align: middle;\n",
       "    }\n",
       "\n",
       "    .dataframe tbody tr th {\n",
       "        vertical-align: top;\n",
       "    }\n",
       "\n",
       "    .dataframe thead th {\n",
       "        text-align: right;\n",
       "    }\n",
       "</style>\n",
       "<table border=\"1\" class=\"dataframe\">\n",
       "  <thead>\n",
       "    <tr style=\"text-align: right;\">\n",
       "      <th></th>\n",
       "      <th>지역</th>\n",
       "      <th>초등학교_전출_도내</th>\n",
       "      <th>초등학교_전출_도외</th>\n",
       "      <th>초등학교_전입_도내</th>\n",
       "      <th>초등학교_전입_도외</th>\n",
       "      <th>중학교_전출_도내</th>\n",
       "      <th>중학교_전출_도외</th>\n",
       "      <th>중학교_전입_도내</th>\n",
       "      <th>중학교_전입_도외</th>\n",
       "      <th>고등학교_전출_도내</th>\n",
       "      <th>고등학교_전출_도외</th>\n",
       "      <th>고등학교_전입_도내</th>\n",
       "      <th>고등학교_전입_도외</th>\n",
       "      <th>년도</th>\n",
       "    </tr>\n",
       "  </thead>\n",
       "  <tbody>\n",
       "    <tr>\n",
       "      <th>0</th>\n",
       "      <td>종로구</td>\n",
       "      <td>221</td>\n",
       "      <td>132</td>\n",
       "      <td>255</td>\n",
       "      <td>126</td>\n",
       "      <td>63</td>\n",
       "      <td>71</td>\n",
       "      <td>104</td>\n",
       "      <td>73</td>\n",
       "      <td>203</td>\n",
       "      <td>72</td>\n",
       "      <td>166</td>\n",
       "      <td>75</td>\n",
       "      <td>2012</td>\n",
       "    </tr>\n",
       "    <tr>\n",
       "      <th>1</th>\n",
       "      <td>중구</td>\n",
       "      <td>295</td>\n",
       "      <td>139</td>\n",
       "      <td>203</td>\n",
       "      <td>100</td>\n",
       "      <td>66</td>\n",
       "      <td>43</td>\n",
       "      <td>58</td>\n",
       "      <td>44</td>\n",
       "      <td>156</td>\n",
       "      <td>37</td>\n",
       "      <td>104</td>\n",
       "      <td>39</td>\n",
       "      <td>2012</td>\n",
       "    </tr>\n",
       "    <tr>\n",
       "      <th>2</th>\n",
       "      <td>용산구</td>\n",
       "      <td>380</td>\n",
       "      <td>269</td>\n",
       "      <td>302</td>\n",
       "      <td>174</td>\n",
       "      <td>134</td>\n",
       "      <td>78</td>\n",
       "      <td>91</td>\n",
       "      <td>106</td>\n",
       "      <td>102</td>\n",
       "      <td>66</td>\n",
       "      <td>113</td>\n",
       "      <td>48</td>\n",
       "      <td>2012</td>\n",
       "    </tr>\n",
       "    <tr>\n",
       "      <th>3</th>\n",
       "      <td>성동구</td>\n",
       "      <td>643</td>\n",
       "      <td>344</td>\n",
       "      <td>376</td>\n",
       "      <td>221</td>\n",
       "      <td>154</td>\n",
       "      <td>103</td>\n",
       "      <td>98</td>\n",
       "      <td>82</td>\n",
       "      <td>179</td>\n",
       "      <td>37</td>\n",
       "      <td>153</td>\n",
       "      <td>41</td>\n",
       "      <td>2012</td>\n",
       "    </tr>\n",
       "    <tr>\n",
       "      <th>4</th>\n",
       "      <td>광진구</td>\n",
       "      <td>560</td>\n",
       "      <td>382</td>\n",
       "      <td>595</td>\n",
       "      <td>312</td>\n",
       "      <td>165</td>\n",
       "      <td>158</td>\n",
       "      <td>158</td>\n",
       "      <td>118</td>\n",
       "      <td>115</td>\n",
       "      <td>70</td>\n",
       "      <td>154</td>\n",
       "      <td>66</td>\n",
       "      <td>2012</td>\n",
       "    </tr>\n",
       "  </tbody>\n",
       "</table>\n",
       "</div>"
      ],
      "text/plain": [
       "    지역  초등학교_전출_도내  초등학교_전출_도외  초등학교_전입_도내  초등학교_전입_도외  중학교_전출_도내  중학교_전출_도외  \\\n",
       "0  종로구         221         132         255         126         63         71   \n",
       "1   중구         295         139         203         100         66         43   \n",
       "2  용산구         380         269         302         174        134         78   \n",
       "3  성동구         643         344         376         221        154        103   \n",
       "4  광진구         560         382         595         312        165        158   \n",
       "\n",
       "   중학교_전입_도내  중학교_전입_도외  고등학교_전출_도내  고등학교_전출_도외  고등학교_전입_도내  고등학교_전입_도외    년도  \n",
       "0        104         73         203          72         166          75  2012  \n",
       "1         58         44         156          37         104          39  2012  \n",
       "2         91        106         102          66         113          48  2012  \n",
       "3         98         82         179          37         153          41  2012  \n",
       "4        158        118         115          70         154          66  2012  "
      ]
     },
     "execution_count": 230,
     "metadata": {},
     "output_type": "execute_result"
    }
   ],
   "source": [
    "import pandas as pd\n",
    "df = pd.read_csv('https://raw.githubusercontent.com/Datamanim/datarepo/main/krdatacertificate/e5_p1_3.csv')\n",
    "df.head(5)"
   ]
  },
  {
   "cell_type": "code",
   "execution_count": 234,
   "metadata": {},
   "outputs": [
    {
     "name": "stdout",
     "output_type": "stream",
     "text": [
      "13853\n"
     ]
    }
   ],
   "source": [
    "# 순유입인원은 초중고 도내,도외 전입인원에서 초중고 도내, 도외 전출인원을 뺀값이다. \n",
    "# 각년도별로 가장 큰 순유입인원을 가진 지역구의 순유입인원을 구하고 전체 기간의 해당 순유입인원들의 합을 구하여라\n",
    "df['초중고_전입'] = df['초등학교_전입_도내'] + df['초등학교_전입_도외'] + df['중학교_전입_도내'] + df['중학교_전입_도외'] + df['고등학교_전입_도내'] + df['고등학교_전입_도외']\n",
    "df['초중고_전출'] = df['초등학교_전출_도내'] + df['초등학교_전출_도외'] + df['중학교_전출_도내'] + df['중학교_전출_도외'] + df['고등학교_전출_도내'] + df['고등학교_전출_도외']\n",
    "\n",
    "df['순유입인원'] = df['초중고_전입'] - df['초중고_전출']\n",
    "ans = df.sort_values(['순유입인원'])\n",
    "ans = ans.groupby('년도')['순유입인원'].max().sum()\n",
    "print(ans)"
   ]
  },
  {
   "cell_type": "markdown",
   "metadata": {},
   "source": [
    "## 3유형"
   ]
  },
  {
   "cell_type": "code",
   "execution_count": 235,
   "metadata": {},
   "outputs": [
    {
     "data": {
      "text/html": [
       "<div>\n",
       "<style scoped>\n",
       "    .dataframe tbody tr th:only-of-type {\n",
       "        vertical-align: middle;\n",
       "    }\n",
       "\n",
       "    .dataframe tbody tr th {\n",
       "        vertical-align: top;\n",
       "    }\n",
       "\n",
       "    .dataframe thead th {\n",
       "        text-align: right;\n",
       "    }\n",
       "</style>\n",
       "<table border=\"1\" class=\"dataframe\">\n",
       "  <thead>\n",
       "    <tr style=\"text-align: right;\">\n",
       "      <th></th>\n",
       "      <th>ID</th>\n",
       "      <th>height</th>\n",
       "    </tr>\n",
       "  </thead>\n",
       "  <tbody>\n",
       "    <tr>\n",
       "      <th>0</th>\n",
       "      <td>user_1</td>\n",
       "      <td>164.57</td>\n",
       "    </tr>\n",
       "    <tr>\n",
       "      <th>1</th>\n",
       "      <td>user_2</td>\n",
       "      <td>174.99</td>\n",
       "    </tr>\n",
       "    <tr>\n",
       "      <th>2</th>\n",
       "      <td>user_3</td>\n",
       "      <td>171.41</td>\n",
       "    </tr>\n",
       "    <tr>\n",
       "      <th>3</th>\n",
       "      <td>user_4</td>\n",
       "      <td>162.47</td>\n",
       "    </tr>\n",
       "    <tr>\n",
       "      <th>4</th>\n",
       "      <td>user_5</td>\n",
       "      <td>167.11</td>\n",
       "    </tr>\n",
       "  </tbody>\n",
       "</table>\n",
       "</div>"
      ],
      "text/plain": [
       "       ID  height\n",
       "0  user_1  164.57\n",
       "1  user_2  174.99\n",
       "2  user_3  171.41\n",
       "3  user_4  162.47\n",
       "4  user_5  167.11"
      ]
     },
     "execution_count": 235,
     "metadata": {},
     "output_type": "execute_result"
    }
   ],
   "source": [
    "import pandas as pd \n",
    "df= pd.read_csv('https://raw.githubusercontent.com/Datamanim/datarepo/main/krdatacertificate/e5_p3_1.csv')\n",
    "df.head()"
   ]
  },
  {
   "cell_type": "code",
   "execution_count": 237,
   "metadata": {},
   "outputs": [
    {
     "name": "stdout",
     "output_type": "stream",
     "text": [
      "169.937\n"
     ]
    }
   ],
   "source": [
    "# 55명 학생들의 키에 대한 표본 평균을 구하여라(반올림하여 소숫점 3째자리까지\n",
    "from scipy.stats import zscore\n",
    "print(round(df['height'].mean(),3))"
   ]
  },
  {
   "cell_type": "code",
   "execution_count": 242,
   "metadata": {},
   "outputs": [
    {
     "name": "stdout",
     "output_type": "stream",
     "text": [
      "2.0049\n"
     ]
    }
   ],
   "source": [
    "# t분포 양쪽 꼬리에서의 t 값을 구하여라 (반올림하여 소수4째자리까지)\n",
    "from scipy.stats import t\n",
    "n = len(std)\n",
    "\n",
    "c_l = 0.95\n",
    "ddof = n -1\n",
    "\n",
    "t_value = round(t.ppf((1+c_l)/2, ddof), 4)\n",
    "print(t_value)"
   ]
  },
  {
   "cell_type": "code",
   "execution_count": 245,
   "metadata": {},
   "outputs": [
    {
     "name": "stdout",
     "output_type": "stream",
     "text": [
      "168.321 171.553\n"
     ]
    }
   ],
   "source": [
    "# 95% 신뢰구간을 구하여라(print(lower,upper) 방식으로 출력, 각각의 값은 소숫점 이하 3째자리까지)\n",
    "mean = np.mean(df['height'])\n",
    "std = np.std(df['height'], ddof=1)\n",
    "lower = round(mean - t_value*std/np.sqrt(n), 3)\n",
    "upper = round(mean + t_value*std/np.sqrt(n), 3)\n",
    "print(lower, upper)"
   ]
  },
  {
   "cell_type": "code",
   "execution_count": 246,
   "metadata": {},
   "outputs": [
    {
     "data": {
      "text/html": [
       "<div>\n",
       "<style scoped>\n",
       "    .dataframe tbody tr th:only-of-type {\n",
       "        vertical-align: middle;\n",
       "    }\n",
       "\n",
       "    .dataframe tbody tr th {\n",
       "        vertical-align: top;\n",
       "    }\n",
       "\n",
       "    .dataframe thead th {\n",
       "        text-align: right;\n",
       "    }\n",
       "</style>\n",
       "<table border=\"1\" class=\"dataframe\">\n",
       "  <thead>\n",
       "    <tr style=\"text-align: right;\">\n",
       "      <th></th>\n",
       "      <th>ID</th>\n",
       "      <th>value</th>\n",
       "    </tr>\n",
       "  </thead>\n",
       "  <tbody>\n",
       "    <tr>\n",
       "      <th>0</th>\n",
       "      <td>A</td>\n",
       "      <td>84.179434</td>\n",
       "    </tr>\n",
       "    <tr>\n",
       "      <th>1</th>\n",
       "      <td>A</td>\n",
       "      <td>93.971003</td>\n",
       "    </tr>\n",
       "    <tr>\n",
       "      <th>2</th>\n",
       "      <td>A</td>\n",
       "      <td>62.140957</td>\n",
       "    </tr>\n",
       "    <tr>\n",
       "      <th>3</th>\n",
       "      <td>A</td>\n",
       "      <td>72.911723</td>\n",
       "    </tr>\n",
       "    <tr>\n",
       "      <th>4</th>\n",
       "      <td>A</td>\n",
       "      <td>79.252747</td>\n",
       "    </tr>\n",
       "  </tbody>\n",
       "</table>\n",
       "</div>"
      ],
      "text/plain": [
       "  ID      value\n",
       "0  A  84.179434\n",
       "1  A  93.971003\n",
       "2  A  62.140957\n",
       "3  A  72.911723\n",
       "4  A  79.252747"
      ]
     },
     "execution_count": 246,
     "metadata": {},
     "output_type": "execute_result"
    }
   ],
   "source": [
    "import pandas as pd \n",
    "df= pd.read_csv('https://raw.githubusercontent.com/Datamanim/datarepo/main/krdatacertificate/e5_p3_2.csv')\n",
    "df.head()"
   ]
  },
  {
   "cell_type": "code",
   "execution_count": 250,
   "metadata": {},
   "outputs": [
    {
     "name": "stdout",
     "output_type": "stream",
     "text": [
      "6.521\n"
     ]
    }
   ],
   "source": [
    "# 3 그룹의 데이터에 대해 크루스칼-왈리스 검정을 사용하여 검정 통계량을 반올림하여 소숫점 이하 3자리까지 구하여라\n",
    "from scipy.stats import kruskal\n",
    "a = df[df['ID'] == 'A'].value.values\n",
    "b = df[df['ID'] == 'B'].value.values\n",
    "c = df[df['ID'] == 'C'].value.values\n",
    "\n",
    "s, p = kruskal(a,b,c)\n",
    "\n",
    "round_s = round(s,3)\n",
    "print(round_s)"
   ]
  },
  {
   "cell_type": "code",
   "execution_count": 252,
   "metadata": {},
   "outputs": [
    {
     "name": "stdout",
     "output_type": "stream",
     "text": [
      "0.038\n",
      "대립\n"
     ]
    }
   ],
   "source": [
    "# 3 그룹의 데이터에 대해 크루스칼-왈리스 검정을 사용하여 p-value를 반올림하여 소숫점 이하 3자리까지 구하여라. \n",
    "# 귀무가설과 대립가설중 0.05 유의수준에서 유의한 가설을  출력하라\n",
    "round_p = round(p,3)\n",
    "print(round_p)\n",
    "print(\"대립\")"
   ]
  },
  {
   "cell_type": "markdown",
   "metadata": {},
   "source": [
    "# 4회차"
   ]
  },
  {
   "cell_type": "code",
   "execution_count": 253,
   "metadata": {},
   "outputs": [
    {
     "data": {
      "text/html": [
       "<div>\n",
       "<style scoped>\n",
       "    .dataframe tbody tr th:only-of-type {\n",
       "        vertical-align: middle;\n",
       "    }\n",
       "\n",
       "    .dataframe tbody tr th {\n",
       "        vertical-align: top;\n",
       "    }\n",
       "\n",
       "    .dataframe thead th {\n",
       "        text-align: right;\n",
       "    }\n",
       "</style>\n",
       "<table border=\"1\" class=\"dataframe\">\n",
       "  <thead>\n",
       "    <tr style=\"text-align: right;\">\n",
       "      <th></th>\n",
       "      <th>Store</th>\n",
       "      <th>Date</th>\n",
       "      <th>Weekly_Sales</th>\n",
       "      <th>Holiday_Flag</th>\n",
       "      <th>Temperature</th>\n",
       "      <th>Fuel_Price</th>\n",
       "      <th>CPI</th>\n",
       "      <th>Unemployment</th>\n",
       "    </tr>\n",
       "  </thead>\n",
       "  <tbody>\n",
       "    <tr>\n",
       "      <th>0</th>\n",
       "      <td>1</td>\n",
       "      <td>05-02-2010</td>\n",
       "      <td>1643690.90</td>\n",
       "      <td>0</td>\n",
       "      <td>42.31</td>\n",
       "      <td>2.572</td>\n",
       "      <td>211.096358</td>\n",
       "      <td>8.106</td>\n",
       "    </tr>\n",
       "    <tr>\n",
       "      <th>1</th>\n",
       "      <td>1</td>\n",
       "      <td>12-02-2010</td>\n",
       "      <td>1641957.44</td>\n",
       "      <td>1</td>\n",
       "      <td>38.51</td>\n",
       "      <td>2.548</td>\n",
       "      <td>211.242170</td>\n",
       "      <td>8.106</td>\n",
       "    </tr>\n",
       "    <tr>\n",
       "      <th>2</th>\n",
       "      <td>1</td>\n",
       "      <td>19-02-2010</td>\n",
       "      <td>1611968.17</td>\n",
       "      <td>0</td>\n",
       "      <td>39.93</td>\n",
       "      <td>2.514</td>\n",
       "      <td>211.289143</td>\n",
       "      <td>8.106</td>\n",
       "    </tr>\n",
       "    <tr>\n",
       "      <th>3</th>\n",
       "      <td>1</td>\n",
       "      <td>26-02-2010</td>\n",
       "      <td>1409727.59</td>\n",
       "      <td>0</td>\n",
       "      <td>46.63</td>\n",
       "      <td>2.561</td>\n",
       "      <td>211.319643</td>\n",
       "      <td>8.106</td>\n",
       "    </tr>\n",
       "    <tr>\n",
       "      <th>4</th>\n",
       "      <td>1</td>\n",
       "      <td>05-03-2010</td>\n",
       "      <td>1554806.68</td>\n",
       "      <td>0</td>\n",
       "      <td>46.5</td>\n",
       "      <td>2.625</td>\n",
       "      <td>211.350143</td>\n",
       "      <td>8.106</td>\n",
       "    </tr>\n",
       "  </tbody>\n",
       "</table>\n",
       "</div>"
      ],
      "text/plain": [
       "   Store        Date  Weekly_Sales  Holiday_Flag Temperature  Fuel_Price  \\\n",
       "0      1  05-02-2010    1643690.90             0       42.31       2.572   \n",
       "1      1  12-02-2010    1641957.44             1       38.51       2.548   \n",
       "2      1  19-02-2010    1611968.17             0       39.93       2.514   \n",
       "3      1  26-02-2010    1409727.59             0       46.63       2.561   \n",
       "4      1  05-03-2010    1554806.68             0        46.5       2.625   \n",
       "\n",
       "          CPI  Unemployment  \n",
       "0  211.096358         8.106  \n",
       "1  211.242170         8.106  \n",
       "2  211.289143         8.106  \n",
       "3  211.319643         8.106  \n",
       "4  211.350143         8.106  "
      ]
     },
     "execution_count": 253,
     "metadata": {},
     "output_type": "execute_result"
    }
   ],
   "source": [
    "import pandas as pd\n",
    "df = pd.read_csv('https://raw.githubusercontent.com/Datamanim/datarepo/main/krdatacertificate/e4_p1_1.csv')\n",
    "df.head(5)"
   ]
  },
  {
   "cell_type": "code",
   "execution_count": 264,
   "metadata": {},
   "outputs": [],
   "source": [
    "# Temperature컬럼에서 숫자가 아닌 문자들을 제거후 숫자 타입으로 바꾸고 3분위수에서 1분위수의 차이를 소숫점 이하 2자리까지 구하여라\n",
    "df['Temperature'] = df['Temperature'].str.extract('(\\d+\\.\\d+)').astype(float)"
   ]
  },
  {
   "cell_type": "code",
   "execution_count": 265,
   "metadata": {},
   "outputs": [
    {
     "name": "stdout",
     "output_type": "stream",
     "text": [
      "27.48\n"
     ]
    }
   ],
   "source": [
    "q1 = df['Temperature'].quantile(1/4)\n",
    "q3 = df['Temperature'].quantile(3/4)\n",
    "print(round(q3-q1,2))"
   ]
  },
  {
   "cell_type": "code",
   "execution_count": 266,
   "metadata": {},
   "outputs": [
    {
     "data": {
      "text/html": [
       "<div>\n",
       "<style scoped>\n",
       "    .dataframe tbody tr th:only-of-type {\n",
       "        vertical-align: middle;\n",
       "    }\n",
       "\n",
       "    .dataframe tbody tr th {\n",
       "        vertical-align: top;\n",
       "    }\n",
       "\n",
       "    .dataframe thead th {\n",
       "        text-align: right;\n",
       "    }\n",
       "</style>\n",
       "<table border=\"1\" class=\"dataframe\">\n",
       "  <thead>\n",
       "    <tr style=\"text-align: right;\">\n",
       "      <th></th>\n",
       "      <th>Title</th>\n",
       "      <th>Video ID</th>\n",
       "      <th>Published At</th>\n",
       "      <th>Keyword</th>\n",
       "      <th>Likes</th>\n",
       "      <th>Comments</th>\n",
       "      <th>Views</th>\n",
       "    </tr>\n",
       "  </thead>\n",
       "  <tbody>\n",
       "    <tr>\n",
       "      <th>0</th>\n",
       "      <td>Apple Pay Is Killing the Physical Wallet After...</td>\n",
       "      <td>wAZZ-UWGVHI</td>\n",
       "      <td>2022-08-23</td>\n",
       "      <td>tech</td>\n",
       "      <td>3407.0</td>\n",
       "      <td>672.0</td>\n",
       "      <td>135612.0</td>\n",
       "    </tr>\n",
       "    <tr>\n",
       "      <th>1</th>\n",
       "      <td>The most EXPENSIVE thing I own.</td>\n",
       "      <td>b3x28s61q3c</td>\n",
       "      <td>2022-08-24</td>\n",
       "      <td>tech</td>\n",
       "      <td>76779.0</td>\n",
       "      <td>4306.0</td>\n",
       "      <td>1758063.0</td>\n",
       "    </tr>\n",
       "    <tr>\n",
       "      <th>2</th>\n",
       "      <td>My New House Gaming Setup is SICK!</td>\n",
       "      <td>4mgePWWCAmA</td>\n",
       "      <td>2022-08-23</td>\n",
       "      <td>tech</td>\n",
       "      <td>63825.0</td>\n",
       "      <td>3338.0</td>\n",
       "      <td>1564007.0</td>\n",
       "    </tr>\n",
       "    <tr>\n",
       "      <th>3</th>\n",
       "      <td>Petrol Vs Liquid Nitrogen | Freezing Experimen...</td>\n",
       "      <td>kXiYSI7H2b0</td>\n",
       "      <td>2022-08-23</td>\n",
       "      <td>tech</td>\n",
       "      <td>71566.0</td>\n",
       "      <td>1426.0</td>\n",
       "      <td>922918.0</td>\n",
       "    </tr>\n",
       "    <tr>\n",
       "      <th>4</th>\n",
       "      <td>Best Back to School Tech 2022!</td>\n",
       "      <td>ErMwWXQxHp0</td>\n",
       "      <td>2022-08-08</td>\n",
       "      <td>tech</td>\n",
       "      <td>96513.0</td>\n",
       "      <td>5155.0</td>\n",
       "      <td>1855644.0</td>\n",
       "    </tr>\n",
       "  </tbody>\n",
       "</table>\n",
       "</div>"
      ],
      "text/plain": [
       "                                               Title     Video ID  \\\n",
       "0  Apple Pay Is Killing the Physical Wallet After...  wAZZ-UWGVHI   \n",
       "1                    The most EXPENSIVE thing I own.  b3x28s61q3c   \n",
       "2                 My New House Gaming Setup is SICK!  4mgePWWCAmA   \n",
       "3  Petrol Vs Liquid Nitrogen | Freezing Experimen...  kXiYSI7H2b0   \n",
       "4                     Best Back to School Tech 2022!  ErMwWXQxHp0   \n",
       "\n",
       "  Published At Keyword    Likes  Comments      Views  \n",
       "0   2022-08-23    tech   3407.0     672.0   135612.0  \n",
       "1   2022-08-24    tech  76779.0    4306.0  1758063.0  \n",
       "2   2022-08-23    tech  63825.0    3338.0  1564007.0  \n",
       "3   2022-08-23    tech  71566.0    1426.0   922918.0  \n",
       "4   2022-08-08    tech  96513.0    5155.0  1855644.0  "
      ]
     },
     "execution_count": 266,
     "metadata": {},
     "output_type": "execute_result"
    }
   ],
   "source": [
    "import pandas as pd\n",
    "df = pd.read_csv('https://raw.githubusercontent.com/Datamanim/datarepo/main/krdatacertificate/e4_p1_2.csv')\n",
    "df.head(5)"
   ]
  },
  {
   "cell_type": "code",
   "execution_count": 267,
   "metadata": {},
   "outputs": [
    {
     "name": "stdout",
     "output_type": "stream",
     "text": [
      "1789084.2424242424\n"
     ]
    }
   ],
   "source": [
    "# Likes를 Comments로 나눈 비율이 20이상이면서 Keyword값이 minecraft인 영상들의 Views값의 평균을 정수로 구하여라\n",
    "ans = df[(df['Likes']/df['Comments'] >= 20) & (df['Keyword'] == 'minecraft')]\n",
    "print(ans['Views'].mean())"
   ]
  },
  {
   "cell_type": "code",
   "execution_count": 296,
   "metadata": {},
   "outputs": [
    {
     "data": {
      "text/html": [
       "<div>\n",
       "<style scoped>\n",
       "    .dataframe tbody tr th:only-of-type {\n",
       "        vertical-align: middle;\n",
       "    }\n",
       "\n",
       "    .dataframe tbody tr th {\n",
       "        vertical-align: top;\n",
       "    }\n",
       "\n",
       "    .dataframe thead th {\n",
       "        text-align: right;\n",
       "    }\n",
       "</style>\n",
       "<table border=\"1\" class=\"dataframe\">\n",
       "  <thead>\n",
       "    <tr style=\"text-align: right;\">\n",
       "      <th></th>\n",
       "      <th>show_id</th>\n",
       "      <th>type</th>\n",
       "      <th>title</th>\n",
       "      <th>director</th>\n",
       "      <th>cast</th>\n",
       "      <th>country</th>\n",
       "      <th>date_added</th>\n",
       "      <th>release_year</th>\n",
       "      <th>rating</th>\n",
       "      <th>duration</th>\n",
       "      <th>listed_in</th>\n",
       "      <th>description</th>\n",
       "    </tr>\n",
       "  </thead>\n",
       "  <tbody>\n",
       "    <tr>\n",
       "      <th>0</th>\n",
       "      <td>s1</td>\n",
       "      <td>Movie</td>\n",
       "      <td>Dick Johnson Is Dead</td>\n",
       "      <td>Kirsten Johnson</td>\n",
       "      <td>NaN</td>\n",
       "      <td>United States</td>\n",
       "      <td>September 25, 2021</td>\n",
       "      <td>2020</td>\n",
       "      <td>PG-13</td>\n",
       "      <td>90 min</td>\n",
       "      <td>Documentaries</td>\n",
       "      <td>As her father nears the end of his life, filmm...</td>\n",
       "    </tr>\n",
       "    <tr>\n",
       "      <th>1</th>\n",
       "      <td>s2</td>\n",
       "      <td>TV Show</td>\n",
       "      <td>Blood &amp; Water</td>\n",
       "      <td>NaN</td>\n",
       "      <td>Ama Qamata, Khosi Ngema, Gail Mabalane, Thaban...</td>\n",
       "      <td>South Africa</td>\n",
       "      <td>September 24, 2021</td>\n",
       "      <td>2021</td>\n",
       "      <td>TV-MA</td>\n",
       "      <td>2 Seasons</td>\n",
       "      <td>International TV Shows, TV Dramas, TV Mysteries</td>\n",
       "      <td>After crossing paths at a party, a Cape Town t...</td>\n",
       "    </tr>\n",
       "    <tr>\n",
       "      <th>2</th>\n",
       "      <td>s3</td>\n",
       "      <td>TV Show</td>\n",
       "      <td>Ganglands</td>\n",
       "      <td>Julien Leclercq</td>\n",
       "      <td>Sami Bouajila, Tracy Gotoas, Samuel Jouy, Nabi...</td>\n",
       "      <td>NaN</td>\n",
       "      <td>September 24, 2021</td>\n",
       "      <td>2021</td>\n",
       "      <td>TV-MA</td>\n",
       "      <td>1 Season</td>\n",
       "      <td>Crime TV Shows, International TV Shows, TV Act...</td>\n",
       "      <td>To protect his family from a powerful drug lor...</td>\n",
       "    </tr>\n",
       "    <tr>\n",
       "      <th>3</th>\n",
       "      <td>s4</td>\n",
       "      <td>TV Show</td>\n",
       "      <td>Jailbirds New Orleans</td>\n",
       "      <td>NaN</td>\n",
       "      <td>NaN</td>\n",
       "      <td>NaN</td>\n",
       "      <td>September 24, 2021</td>\n",
       "      <td>2021</td>\n",
       "      <td>TV-MA</td>\n",
       "      <td>1 Season</td>\n",
       "      <td>Docuseries, Reality TV</td>\n",
       "      <td>Feuds, flirtations and toilet talk go down amo...</td>\n",
       "    </tr>\n",
       "    <tr>\n",
       "      <th>4</th>\n",
       "      <td>s5</td>\n",
       "      <td>TV Show</td>\n",
       "      <td>Kota Factory</td>\n",
       "      <td>NaN</td>\n",
       "      <td>Mayur More, Jitendra Kumar, Ranjan Raj, Alam K...</td>\n",
       "      <td>India</td>\n",
       "      <td>September 24, 2021</td>\n",
       "      <td>2021</td>\n",
       "      <td>TV-MA</td>\n",
       "      <td>2 Seasons</td>\n",
       "      <td>International TV Shows, Romantic TV Shows, TV ...</td>\n",
       "      <td>In a city of coaching centers known to train I...</td>\n",
       "    </tr>\n",
       "  </tbody>\n",
       "</table>\n",
       "</div>"
      ],
      "text/plain": [
       "  show_id     type                  title         director  \\\n",
       "0      s1    Movie   Dick Johnson Is Dead  Kirsten Johnson   \n",
       "1      s2  TV Show          Blood & Water              NaN   \n",
       "2      s3  TV Show              Ganglands  Julien Leclercq   \n",
       "3      s4  TV Show  Jailbirds New Orleans              NaN   \n",
       "4      s5  TV Show           Kota Factory              NaN   \n",
       "\n",
       "                                                cast        country  \\\n",
       "0                                                NaN  United States   \n",
       "1  Ama Qamata, Khosi Ngema, Gail Mabalane, Thaban...   South Africa   \n",
       "2  Sami Bouajila, Tracy Gotoas, Samuel Jouy, Nabi...            NaN   \n",
       "3                                                NaN            NaN   \n",
       "4  Mayur More, Jitendra Kumar, Ranjan Raj, Alam K...          India   \n",
       "\n",
       "           date_added  release_year rating   duration  \\\n",
       "0  September 25, 2021          2020  PG-13     90 min   \n",
       "1  September 24, 2021          2021  TV-MA  2 Seasons   \n",
       "2  September 24, 2021          2021  TV-MA   1 Season   \n",
       "3  September 24, 2021          2021  TV-MA   1 Season   \n",
       "4  September 24, 2021          2021  TV-MA  2 Seasons   \n",
       "\n",
       "                                           listed_in  \\\n",
       "0                                      Documentaries   \n",
       "1    International TV Shows, TV Dramas, TV Mysteries   \n",
       "2  Crime TV Shows, International TV Shows, TV Act...   \n",
       "3                             Docuseries, Reality TV   \n",
       "4  International TV Shows, Romantic TV Shows, TV ...   \n",
       "\n",
       "                                         description  \n",
       "0  As her father nears the end of his life, filmm...  \n",
       "1  After crossing paths at a party, a Cape Town t...  \n",
       "2  To protect his family from a powerful drug lor...  \n",
       "3  Feuds, flirtations and toilet talk go down amo...  \n",
       "4  In a city of coaching centers known to train I...  "
      ]
     },
     "execution_count": 296,
     "metadata": {},
     "output_type": "execute_result"
    }
   ],
   "source": [
    "import pandas as pd\n",
    "df = pd.read_csv('https://raw.githubusercontent.com/Datamanim/datarepo/main/krdatacertificate/e4_p1_3.csv')\n",
    "df.head(5)"
   ]
  },
  {
   "cell_type": "code",
   "execution_count": 297,
   "metadata": {},
   "outputs": [
    {
     "name": "stdout",
     "output_type": "stream",
     "text": [
      "5\n"
     ]
    }
   ],
   "source": [
    "# date_added가 2018년 1월 이면서 country가 United Kingdom 단독 제작인 데이터의 갯수\n",
    "df['date_added'] = pd.to_datetime(df['date_added'], errors='coerce')\n",
    "ans = df[(df['date_added'].dt.year == 2018) & (df['date_added'].dt.month == 1)]\n",
    "print(ans[ans['country'] == 'United Kingdom'].shape[0])"
   ]
  },
  {
   "cell_type": "markdown",
   "metadata": {},
   "source": [
    "## 3유형"
   ]
  },
  {
   "cell_type": "code",
   "execution_count": 299,
   "metadata": {},
   "outputs": [
    {
     "data": {
      "text/html": [
       "<div>\n",
       "<style scoped>\n",
       "    .dataframe tbody tr th:only-of-type {\n",
       "        vertical-align: middle;\n",
       "    }\n",
       "\n",
       "    .dataframe tbody tr th {\n",
       "        vertical-align: top;\n",
       "    }\n",
       "\n",
       "    .dataframe thead th {\n",
       "        text-align: right;\n",
       "    }\n",
       "</style>\n",
       "<table border=\"1\" class=\"dataframe\">\n",
       "  <thead>\n",
       "    <tr style=\"text-align: right;\">\n",
       "      <th></th>\n",
       "      <th>학번</th>\n",
       "      <th>학과</th>\n",
       "      <th>성별</th>\n",
       "    </tr>\n",
       "  </thead>\n",
       "  <tbody>\n",
       "    <tr>\n",
       "      <th>0</th>\n",
       "      <td>DFSKJK_1</td>\n",
       "      <td>경영학과</td>\n",
       "      <td>여</td>\n",
       "    </tr>\n",
       "    <tr>\n",
       "      <th>1</th>\n",
       "      <td>DFSKJK_2</td>\n",
       "      <td>사회학과</td>\n",
       "      <td>여</td>\n",
       "    </tr>\n",
       "    <tr>\n",
       "      <th>2</th>\n",
       "      <td>DFSKJK_3</td>\n",
       "      <td>기계공학과</td>\n",
       "      <td>여</td>\n",
       "    </tr>\n",
       "    <tr>\n",
       "      <th>3</th>\n",
       "      <td>DFSKJK_4</td>\n",
       "      <td>경제학과</td>\n",
       "      <td>남</td>\n",
       "    </tr>\n",
       "    <tr>\n",
       "      <th>4</th>\n",
       "      <td>DFSKJK_5</td>\n",
       "      <td>기계공학과</td>\n",
       "      <td>여</td>\n",
       "    </tr>\n",
       "  </tbody>\n",
       "</table>\n",
       "</div>"
      ],
      "text/plain": [
       "         학번     학과 성별\n",
       "0  DFSKJK_1   경영학과  여\n",
       "1  DFSKJK_2   사회학과  여\n",
       "2  DFSKJK_3  기계공학과  여\n",
       "3  DFSKJK_4   경제학과  남\n",
       "4  DFSKJK_5  기계공학과  여"
      ]
     },
     "execution_count": 299,
     "metadata": {},
     "output_type": "execute_result"
    }
   ],
   "source": [
    "import pandas as pd \n",
    "df= pd.read_csv('https://raw.githubusercontent.com/Datamanim/datarepo/main/krdatacertificate/e4_p3_1_.csv')\n",
    "df.head()"
   ]
  },
  {
   "cell_type": "code",
   "execution_count": 307,
   "metadata": {},
   "outputs": [
    {
     "name": "stdout",
     "output_type": "stream",
     "text": [
      "170.33333333333334\n"
     ]
    }
   ],
   "source": [
    "# 학과 평균 인원에 대한 값을 소숫점 이하 3자리까지 구하여라\n",
    "ans = df.groupby('학과').size().mean()\n",
    "print(ans)"
   ]
  },
  {
   "cell_type": "code",
   "execution_count": 310,
   "metadata": {},
   "outputs": [
    {
     "name": "stdout",
     "output_type": "stream",
     "text": [
      "5.646\n"
     ]
    }
   ],
   "source": [
    "# 카이제곱검정 독립성 검정 통계량을 소숫점 이하 3자리까지 구하여라\n",
    "from scipy.stats import chi2_contingency\n",
    "\n",
    "ans = pd.crosstab(df['학과'], df['성별'])\n",
    "s, p, a, b = chi2_contingency(ans)\n",
    "\n",
    "print(round(s,3))"
   ]
  },
  {
   "cell_type": "code",
   "execution_count": 312,
   "metadata": {},
   "outputs": [
    {
     "name": "stdout",
     "output_type": "stream",
     "text": [
      "0.342\n",
      "귀무가설\n"
     ]
    }
   ],
   "source": [
    "# 카이제곱검정 독립성 검정의 pvalue를 소숫점 이하 3자리까지 구하여라. 유의수준 0.05하에서 귀무가설과 대립가설중 유의한 것을 출력하라\n",
    "print(round(p,3))\n",
    "print(\"귀무가설\")"
   ]
  },
  {
   "cell_type": "code",
   "execution_count": 313,
   "metadata": {},
   "outputs": [
    {
     "name": "stdout",
     "output_type": "stream",
     "text": [
      "2.0\n"
     ]
    }
   ],
   "source": [
    "# 어느 학교에서  수학 시험을 본 학생 100명 중 60명이 60점 이상을 받았다. \n",
    "# 이 학교의  수학 시험의 평균 점수가 50점 이상인지 95%의 신뢰 수준에서 검정하려한다.\n",
    "n = 100\n",
    "p_hat = 0.6\n",
    "p = 0.5\n",
    "alpha = 0.05\n",
    "\n",
    "# 검정 통계량 계산\n",
    "z = round((p_hat - p) / np.sqrt(p * (1 - p) / n),5)\n",
    "print(z)"
   ]
  },
  {
   "cell_type": "code",
   "execution_count": null,
   "metadata": {},
   "outputs": [],
   "source": [
    "# 검정 통계량을 소숫점 이하 3자리에서 구하시오"
   ]
  },
  {
   "cell_type": "code",
   "execution_count": 314,
   "metadata": {},
   "outputs": [
    {
     "name": "stdout",
     "output_type": "stream",
     "text": [
      "0.023\n",
      "대립\n"
     ]
    }
   ],
   "source": [
    "from scipy.stats import norm\n",
    "p_value = round(1 - norm.cdf(z),3)\n",
    "\n",
    "print(p_value)\n",
    "print('대립')"
   ]
  },
  {
   "cell_type": "code",
   "execution_count": null,
   "metadata": {},
   "outputs": [],
   "source": []
  }
 ],
 "metadata": {
  "kernelspec": {
   "display_name": "Python 3",
   "language": "python",
   "name": "python3"
  },
  "language_info": {
   "codemirror_mode": {
    "name": "ipython",
    "version": 3
   },
   "file_extension": ".py",
   "mimetype": "text/x-python",
   "name": "python",
   "nbconvert_exporter": "python",
   "pygments_lexer": "ipython3",
   "version": "3.11.5"
  }
 },
 "nbformat": 4,
 "nbformat_minor": 2
}
